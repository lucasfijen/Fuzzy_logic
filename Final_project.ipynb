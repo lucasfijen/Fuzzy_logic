{
 "cells": [
  {
   "cell_type": "markdown",
   "metadata": {},
   "source": [
    "# Fuzzy IMDB-rating system  \n",
    "Made by:\n",
    "Arie Soeteman & Lucas Fijen\n"
   ]
  },
  {
   "cell_type": "markdown",
   "metadata": {},
   "source": [
    "The different types of membership functions"
   ]
  },
  {
   "cell_type": "code",
   "execution_count": 1,
   "metadata": {
    "collapsed": true
   },
   "outputs": [],
   "source": [
    "import math\n",
    "import numpy as np\n",
    "from collections import defaultdict, Counter\n",
    "\n",
    "\n",
    "#Needs Float input\n",
    "class TriangularMF:\n",
    "    def __init__(self, name, start, top, end):\n",
    "        self.name = name\n",
    "        self.start = float(start)\n",
    "        self.top = float(top)\n",
    "        self.end = float(end)\n",
    "\n",
    "    def calculate_membership(self, x):\n",
    "        if x < self.start or x > self.end:\n",
    "            return(0.0)\n",
    "        if x < self.top:\n",
    "            return (x-self.start)/(self.top-self.start)\n",
    "        if x > self.top:\n",
    "            return (self.end-x)/(self.end-self.top)\n",
    "        if x == self.top:\n",
    "            return 1.0\n",
    "    \n",
    "    def get_range(self):\n",
    "        return(self.start, self.end)\n",
    "        \n",
    "#Needs Float input\n",
    "class TrapezoidalMF:\n",
    "    def __init__(self, name, start, left_top, right_top, end):\n",
    "        self.name = name\n",
    "        self.start = float(start)\n",
    "        self.left_top = float(left_top)\n",
    "        self.right_top = float(right_top)\n",
    "        self.end = float(end)\n",
    "\n",
    "    def calculate_membership(self, x):\n",
    "        if x < self.start or x > self.end:\n",
    "            return 0.0\n",
    "        if x < self.left_top:\n",
    "            return (x-self.start)/(self.left_top - self.start)\n",
    "        if x > self.right_top:\n",
    "            return (self.end-x)/(self.end-self.right_top)\n",
    "        if x >= self.left_top and x <= self.right_top:\n",
    "            return 1.0\n",
    "\n",
    "    def get_range(self):\n",
    "        return(self.start, self.end)\n",
    "    \n",
    "class GaussianMF:\n",
    "    def __init__(self, name, mean, std):\n",
    "        self.name = name\n",
    "        self.mean = mean\n",
    "        self.std = std\n",
    "\n",
    "    def calculate_membership(self, x):\n",
    "        exp = (-1*(x-self.mean)**2)/(2*self.std**2)\n",
    "        return math.exp(exp)\n",
    "        #     def calculate_membership(self, x):\n",
    "#         first = float(1)/(math.sqrt(2*math.pi)*self.std)\n",
    "#         second = (x-self.mean)**2\n",
    "#         second = second/(2*(self.std**2))\n",
    "#         return(first * math.exp(-second))\n",
    "\n",
    "    # Calculate range as that of 99.7% of the entire fuzzy set (3 standard deviations)\n",
    "    def get_range(self):\n",
    "        start = self.mean - 3*self.std\n",
    "        end = self.mean + 3*self.std\n",
    "        return(start, end)\n"
   ]
  },
  {
   "cell_type": "code",
   "execution_count": 2,
   "metadata": {},
   "outputs": [
    {
     "name": "stdout",
     "output_type": "stream",
     "text": [
      "0.6065306597126334\n",
      "(4, 16)\n"
     ]
    }
   ],
   "source": [
    "g = GaussianMF(\"gaus\", 10, 2)\n",
    "print(g.calculate_membership(8))\n",
    "print(g.get_range())"
   ]
  },
  {
   "cell_type": "markdown",
   "metadata": {},
   "source": [
    "The Variable-class"
   ]
  },
  {
   "cell_type": "code",
   "execution_count": 3,
   "metadata": {
    "collapsed": true
   },
   "outputs": [],
   "source": [
    "class Variable:\n",
    "    \"\"\"General class for variables in an FLS.\"\"\"\n",
    "    def __init__(self, name, range, mfs):\n",
    "        self.name = name\n",
    "        self.range = range\n",
    "        self.mfs = mfs\n",
    "\n",
    "    def calculate_memberships(self, x):\n",
    "        \"\"\"Test function to check whether\n",
    "        you put together the right mfs in your variables.\"\"\"\n",
    "        return {\n",
    "            mf.name : mf.calculate_membership(x)\n",
    "            for mf in self.mfs\n",
    "        }\n",
    "\n",
    "    def get_mf_by_name(self, name):\n",
    "        for mf in self.mfs:\n",
    "            if mf.name == name:\n",
    "                return mf\n",
    "\n",
    "class Input(Variable):\n",
    "    \"\"\"Class for input variables, inherits \n",
    "    variables and functions from superclass Variable.\"\"\"\n",
    "    def __init__(self, name, range, mfs):\n",
    "        super().__init__(name, range, mfs)\n",
    "        self.type = \"input\"\n",
    "\n",
    "class Output(Variable):\n",
    "    \"\"\"Class for output variables, inherits \n",
    "    variables and functions from superclass Variable.\"\"\"\n",
    "    def __init__(self, name, range, mfs):\n",
    "        super().__init__(name, range, mfs)\n",
    "        self.type = \"output\""
   ]
  },
  {
   "cell_type": "markdown",
   "metadata": {},
   "source": [
    "Hier moeten we variabelen en hun Membership-functies gaan definieren"
   ]
  },
  {
   "cell_type": "code",
   "execution_count": 4,
   "metadata": {},
   "outputs": [
    {
     "data": {
      "text/plain": [
       "{'few': 0.5, 'medium': 0.5, 'much': 0.0, 'very_much': 0.0}"
      ]
     },
     "execution_count": 4,
     "metadata": {},
     "output_type": "execute_result"
    }
   ],
   "source": [
    "# Number of Movies for actors\n",
    "few = TrapezoidalMF('few', 0, 0, 3, 5)\n",
    "medium = TriangularMF('medium', 3, 5, 7)\n",
    "much = TriangularMF('much', 5, 7, 9)\n",
    "very_much = TrapezoidalMF('very_much', 8, 10, 15, 15)\n",
    "mfs_actor_movies = [few, medium, much, very_much]\n",
    "actor_movies = Input('actor_movies', (0, 15), mfs_actor_movies)\n",
    "\n",
    "actor_movies.calculate_memberships(4)"
   ]
  },
  {
   "cell_type": "code",
   "execution_count": 5,
   "metadata": {
    "collapsed": true
   },
   "outputs": [],
   "source": [
    "# Number of Movies for Director\n",
    "few = TrapezoidalMF('few', 0, 0, 3, 5)\n",
    "medium = TriangularMF('medium', 3, 5, 7)\n",
    "much = TriangularMF('much', 5, 7, 9)\n",
    "very_much = TrapezoidalMF('very_much', 8, 10, 15, 15)\n",
    "mfs_director_movies = [few, medium, much, very_much]\n",
    "director_movies = Input('director_movies', (0, 15), mfs_director_movies)"
   ]
  },
  {
   "cell_type": "code",
   "execution_count": 6,
   "metadata": {
    "collapsed": true
   },
   "outputs": [],
   "source": [
    "# Number of Movies for Composer\n",
    "few = TrapezoidalMF('few', 0, 0, 3, 5)\n",
    "medium = TriangularMF('medium', 3, 5, 7)\n",
    "much = TriangularMF('much', 5, 7, 9)\n",
    "very_much = TrapezoidalMF('very_much', 8, 10, 15, 15)\n",
    "mfs_composer_movies = [few, medium, much, very_much]\n",
    "composer_movies = Input('composer_movies', (0, 15), mfs_composer_movies)"
   ]
  },
  {
   "cell_type": "code",
   "execution_count": 7,
   "metadata": {
    "collapsed": true
   },
   "outputs": [],
   "source": [
    "# Number of Movies for Visual Effects superviser\n",
    "few = TrapezoidalMF('few', 0, 0, 3, 5)\n",
    "medium = TriangularMF('medium', 3, 5, 7)\n",
    "much = TriangularMF('much', 5, 7, 9)\n",
    "very_much = TrapezoidalMF('very_much', 8, 10, 15, 15)\n",
    "mfs_ve_movies = [few, medium, much, very_much]\n",
    "ve_movies = Input('ve_movies', (0, 15), mfs_ve_movies)"
   ]
  },
  {
   "cell_type": "code",
   "execution_count": 8,
   "metadata": {},
   "outputs": [
    {
     "data": {
      "text/plain": [
       "{'acceptable': 0.40000000000000036,\n",
       " 'bad': 0.06666666666666643,\n",
       " 'excellent': 0.0,\n",
       " 'good': 0.0,\n",
       " 'terrible': 0.0}"
      ]
     },
     "execution_count": 8,
     "metadata": {},
     "output_type": "execute_result"
    }
   ],
   "source": [
    "# Average movie rating\n",
    "terrible = TrapezoidalMF('terrible', 0, 0, 3, 4)\n",
    "bad = TriangularMF('bad', 3, 4.5, 6)\n",
    "acceptable = TriangularMF('acceptable', 5.5, 6.5, 7.5)\n",
    "good = TriangularMF('good', 7, 7.75, 8.5)\n",
    "excellent = TrapezoidalMF('excellent', 7.5, 8, 10.0, 10.0)\n",
    "mfs_average_movie_rating = [terrible, bad, acceptable, good, excellent]\n",
    "average_movie_rating = Input('average_movie_rating', (0.0, 10.0), mfs_average_movie_rating)\n",
    "\n",
    "average_movie_rating.calculate_memberships(5.9)"
   ]
  },
  {
   "cell_type": "code",
   "execution_count": 9,
   "metadata": {},
   "outputs": [
    {
     "name": "stdout",
     "output_type": "stream",
     "text": [
      "{'low': 0.8007374029168081, 'medium': 0.6065306597126334, 'high': 0.2605918210126892}\n",
      "{'low': 0.1353352832366127, 'medium': 0.9459594689067654, 'high': 0.33447270571756405}\n",
      "{'low': 0.0038659201394728076, 'medium': 0.9459594689067654, 'high': 0.41844910891303544}\n",
      "{'low': 2.233631436203166e-10, 'medium': 0.1353352832366127, 'high': 0.6549476304858832}\n",
      "{'low': 1.9287498479639178e-22, 'medium': 0.001203859994828203, 'high': 0.8735411859788502}\n"
     ]
    }
   ],
   "source": [
    "# Budget\n",
    "low = GaussianMF('low', 0, 30)\n",
    "medium = GaussianMF('medium', 80, 60)\n",
    "high = GaussianMF('high', 430, 250)\n",
    "mfs_budget = [low, medium, high]\n",
    "budget = Input('average_movie_rating', (0, 430), mfs_budget)\n",
    "\n",
    "print(budget.calculate_memberships(20))\n",
    "print(budget.calculate_memberships(60))\n",
    "print(budget.calculate_memberships(100))\n",
    "print(budget.calculate_memberships(200))\n",
    "print(budget.calculate_memberships(300))"
   ]
  },
  {
   "cell_type": "code",
   "execution_count": 10,
   "metadata": {
    "collapsed": true
   },
   "outputs": [],
   "source": [
    "# Actor\n",
    "terrible = TrapezoidalMF('terrible', 0, 0, 3, 4)\n",
    "bad = TriangularMF('bad', 3, 4.5, 6)\n",
    "acceptable = TriangularMF('acceptable', 5.5, 6.5, 7.5)\n",
    "good = TriangularMF('good', 7, 7.75, 8.5)\n",
    "excellent = TrapezoidalMF('excellent', 7.5, 8, 10.0, 10.0)\n",
    "mfs_actor= [terrible, bad, acceptable, good, excellent]\n",
    "actor_output = Output('actor_output', (0.0, 10.0), mfs_actor)\n",
    "actor_input = Input('actor_input', (0.0, 10.0), mfs_actor)\n"
   ]
  },
  {
   "cell_type": "code",
   "execution_count": 11,
   "metadata": {
    "collapsed": true
   },
   "outputs": [],
   "source": [
    "# Director\n",
    "terrible = TrapezoidalMF('terrible', 0, 0, 3, 4)\n",
    "bad = TriangularMF('bad', 3, 4.5, 6)\n",
    "acceptable = TriangularMF('acceptable', 5.5, 6.5, 7.5)\n",
    "good = TriangularMF('good', 7, 7.75, 8.5)\n",
    "excellent = TrapezoidalMF('excellent', 7.5, 8, 10.0, 10.0)\n",
    "mfs_director= [terrible, bad, acceptable, good, excellent]\n",
    "director_output = Output('director_output', (0.0, 10.0), mfs_director)\n",
    "director_input = Input('director_input', (0.0, 10.0), mfs_director)"
   ]
  },
  {
   "cell_type": "code",
   "execution_count": 12,
   "metadata": {
    "collapsed": true
   },
   "outputs": [],
   "source": [
    "# ve\n",
    "terrible = TrapezoidalMF('terrible', 0, 0, 3, 4)\n",
    "bad = TriangularMF('bad', 3, 4.5, 6)\n",
    "acceptable = TriangularMF('acceptable', 5.5, 6.5, 7.5)\n",
    "good = TriangularMF('good', 7, 7.75, 8.5)\n",
    "excellent = TrapezoidalMF('excellent', 7.5, 8, 10.0, 10.0)\n",
    "mfs_ve = [terrible, bad, acceptable, good, excellent]\n",
    "ve_output = Output('ve_output', (0.0, 10.0), mfs_ve)\n",
    "ve_input = Input('ve_input', (0.0, 10.0), mfs_ve)"
   ]
  },
  {
   "cell_type": "code",
   "execution_count": 13,
   "metadata": {
    "collapsed": true
   },
   "outputs": [],
   "source": [
    "# composer\n",
    "terrible = TrapezoidalMF('terrible', 0, 0, 3, 4)\n",
    "bad = TriangularMF('bad', 3, 4.5, 6)\n",
    "acceptable = TriangularMF('acceptable', 5.5, 6.5, 7.5)\n",
    "good = TriangularMF('good', 7, 7.75, 8.5)\n",
    "excellent = TrapezoidalMF('excellent', 7.5, 8, 10.0, 10.0)\n",
    "mfs_composer = [terrible, bad, acceptable, good, excellent]\n",
    "composer_output = Output('composer_output', (0.0, 10.0), mfs_composer)\n",
    "composer_input = Input('composer_input', (0.0, 10.0), mfs_composer)"
   ]
  },
  {
   "cell_type": "code",
   "execution_count": 14,
   "metadata": {
    "collapsed": true
   },
   "outputs": [],
   "source": [
    "# Performing\n",
    "terrible = TrapezoidalMF('terrible', 0, 0, 3, 4)\n",
    "bad = TriangularMF('bad', 3, 4.5, 6)\n",
    "acceptable = TriangularMF('acceptable', 5.5, 6.5, 7.5)\n",
    "good = TriangularMF('good', 7, 7.75, 8.5)\n",
    "excellent = TrapezoidalMF('excellent', 7.5, 8, 10.0, 10.0)\n",
    "mfs_performing= [terrible, bad, acceptable, good, excellent]\n",
    "performing_output = Output('performing_output', (0.0, 10.0), mfs_performing)\n",
    "performing_input = Input('performing_input', (0.0, 10.0), mfs_performing)#\n"
   ]
  },
  {
   "cell_type": "code",
   "execution_count": 15,
   "metadata": {
    "collapsed": true
   },
   "outputs": [],
   "source": [
    "# Creating\n",
    "terrible = TrapezoidalMF('terrible', 0, 0, 3, 4)\n",
    "bad = TriangularMF('bad', 3, 4.5, 6)\n",
    "acceptable = TriangularMF('acceptable', 5.5, 6.5, 7.5)\n",
    "good = TriangularMF('good', 7, 7.75, 8.5)\n",
    "excellent = TrapezoidalMF('excellent', 7.5, 8, 10.0, 10.0)\n",
    "mfs_creating= [terrible, bad, acceptable, good, excellent]\n",
    "creating_output = Output('creating_output', (0.0, 10.0), mfs_creating)\n",
    "creating_input = Input('creating_input', (0.0, 10.0), mfs_creating)"
   ]
  },
  {
   "cell_type": "code",
   "execution_count": 16,
   "metadata": {
    "collapsed": true
   },
   "outputs": [],
   "source": [
    "# Crew\n",
    "terrible = TrapezoidalMF('terrible', 0, 0, 3, 4)\n",
    "bad = TriangularMF('bad', 3, 4.5, 6)\n",
    "acceptable = TriangularMF('acceptable', 5.5, 6.5, 7.5)\n",
    "good = TriangularMF('good', 7, 7.75, 8.5)\n",
    "excellent = TrapezoidalMF('excellent', 7.5, 8, 10.0, 10.0)\n",
    "mfs_crew= [terrible, bad, acceptable, good, excellent]\n",
    "crew_output = Output('crew_output', (0.0, 10.0), mfs_crew)\n",
    "crew_input = Input('crew_input', (0.0, 10.0), mfs_crew)"
   ]
  },
  {
   "cell_type": "code",
   "execution_count": 17,
   "metadata": {
    "collapsed": true
   },
   "outputs": [],
   "source": [
    "# Rating\n",
    "terrible = TrapezoidalMF('terrible', 0, 0, 3, 4)\n",
    "bad = TriangularMF('bad', 3, 4.5, 6)\n",
    "acceptable = TriangularMF('acceptable', 5.5, 6.5, 7.5)\n",
    "good = TriangularMF('good', 7, 7.75, 8.5)\n",
    "excellent = TrapezoidalMF('excellent', 7.5, 8, 10.0, 10.0)\n",
    "mfs_rating= [terrible, bad, acceptable, good, excellent]\n",
    "rating = Output('rating_output', (0.0, 10.0), mfs_rating)"
   ]
  },
  {
   "cell_type": "markdown",
   "metadata": {},
   "source": [
    "The Rule-class"
   ]
  },
  {
   "cell_type": "code",
   "execution_count": 18,
   "metadata": {
    "collapsed": true
   },
   "outputs": [],
   "source": [
    "class Rule:\n",
    "    \"\"\"Fuzzy rule class, initialized with an antecedent (list of strings),\n",
    "    operator (string) and consequent (string).\"\"\"\n",
    "    def __init__(self, n, antecedent, operator, consequent):\n",
    "        self.number = n\n",
    "        self.antecedent = antecedent\n",
    "        self.operator = operator\n",
    "        self.consequent = consequent\n",
    "        self.firing_strength = 0\n",
    "\n",
    "    def calculate_firing_strength(self, datapoint, inputs):\n",
    "        fs = []\n",
    "        for index, variable in enumerate(inputs):\n",
    "#            print(index)\n",
    "            memb_dict = (variable.calculate_memberships(datapoint[index]))\n",
    "            fs.append(memb_dict[self.antecedent[index]])\n",
    "        if self.operator == 'and':\n",
    "            self.firing_strength = min(fs)\n",
    "        if self.operator == 'or':    \n",
    "            self.firing_strength = max(fs)\n",
    "        return self.firing_strength"
   ]
  },
  {
   "cell_type": "markdown",
   "metadata": {},
   "source": [
    "Hier moeten we Rules gaan definieren"
   ]
  },
  {
   "cell_type": "code",
   "execution_count": 19,
   "metadata": {
    "collapsed": true
   },
   "outputs": [],
   "source": [
    "from collections import Counter\n",
    "\n",
    "class Rulebase:\n",
    "    \"\"\"The fuzzy rulebase collects all rules for the FLS, can\n",
    "    calculate the firing strengths of its rules.\"\"\"\n",
    "    def __init__(self, rules):\n",
    "        self.rules = rules\n",
    "\n",
    "    def calculate_firing_strengths(self, datapoint, inputs):\n",
    "        result = Counter()\n",
    "        for i, rule in enumerate(self.rules):\n",
    "            fs = rule.calculate_firing_strength(datapoint, inputs)\n",
    "            consequent = rule.consequent\n",
    "            if fs > result[consequent]:\n",
    "                result[consequent] = fs\n",
    "        return result"
   ]
  },
  {
   "cell_type": "code",
   "execution_count": 20,
   "metadata": {},
   "outputs": [
    {
     "name": "stdout",
     "output_type": "stream",
     "text": [
      "Counter({'good': 0.5})\n"
     ]
    }
   ],
   "source": [
    "#System1: Inferencing actor-quality\n",
    "rule1 = Rule(1, [\"terrible\", \"few\"], \"and\", \"terrible\")\n",
    "rule2 = Rule(1, [\"terrible\", \"medium\"], \"and\", \"terrible\")\n",
    "rule3 = Rule(1, [\"terrible\", \"much\"], \"and\", \"terrible\")\n",
    "rule4 = Rule(1, [\"terrible\", \"very_much\"], \"and\", \"bad\")\n",
    "\n",
    "rule5 = Rule(1, [\"bad\", \"few\"], \"and\", \"terrible\")\n",
    "rule6 = Rule(1, [\"bad\", \"medium\"], \"and\", \"bad\")\n",
    "rule7 = Rule(1, [\"bad\", \"much\"], \"and\", \"bad\")\n",
    "rule8 = Rule(1, [\"bad\", \"very_much\"], \"and\", \"acceptable\")\n",
    "\n",
    "rule9 = Rule(1, [\"acceptable\", \"few\"], \"and\", \"bad\")\n",
    "rule10 = Rule(1, [\"acceptable\", \"medium\"], \"and\", \"acceptable\")\n",
    "rule11 = Rule(1, [\"acceptable\", \"much\"], \"and\", \"acceptable\")\n",
    "rule12 = Rule(1, [\"acceptable\", \"very_much\"], \"and\", \"good\")\n",
    "\n",
    "rule13 = Rule(1, [\"good\", \"few\"], \"and\", \"acceptable\")\n",
    "rule14 = Rule(1, [\"good\", \"medium\"], \"and\", \"good\")\n",
    "rule15 = Rule(1, [\"good\", \"much\"], \"and\", \"good\")\n",
    "rule16 = Rule(1, [\"good\", \"very_much\"], \"and\", \"excellent\")\n",
    "\n",
    "rule17 = Rule(1, [\"excellent\", \"few\"], \"and\", \"good\")\n",
    "rule18 = Rule(1, [\"excellent\", \"medium\"], \"and\", \"excellent\")\n",
    "rule19 = Rule(1, [\"excellent\", \"much\"], \"and\", \"excellent\")\n",
    "rule20 = Rule(1, [\"excellent\", \"very_much\"], \"and\", \"excellent\")\n",
    "\n",
    "actor_rules = [rule1, rule2, rule3, rule4, rule5, rule6, rule7, rule8, rule9, rule10, rule11, rule12, rule13, rule14, rule15, rule16, rule17, rule18, rule19, rule20]\n",
    "\n",
    "#Same as director-rulebase and ve-rulebase\n",
    "actor_rulebase = Rulebase(actor_rules)\n",
    "print(actor_rulebase.calculate_firing_strengths([7.5, 8], [average_movie_rating, actor_movies]))"
   ]
  },
  {
   "cell_type": "code",
   "execution_count": 21,
   "metadata": {},
   "outputs": [
    {
     "name": "stdout",
     "output_type": "stream",
     "text": [
      "Counter({'good': 0.6666666666666666, 'excellent': 0.6666666666666666})\n"
     ]
    }
   ],
   "source": [
    "# Rulebase that takes actors and ve as input and (PERFORMING) as output\n",
    "# Actor weighs more than VE at the moment\n",
    "r1 = Rule(1, [\"terrible\", \"terrible\"], \"and\", \"terrible\")\n",
    "r2 = Rule(1, [\"terrible\", \"bad\"], \"and\", \"terrible\")\n",
    "r3 = Rule(1, [\"terrible\", \"acceptable\"], \"and\", \"terrible\")\n",
    "r4 = Rule(1, [\"terrible\", \"good\"], \"and\", \"bad\")\n",
    "r5 = Rule(1, [\"terrible\", \"excellent\"], \"and\", \"bad\")\n",
    "\n",
    "r6 = Rule(1, [\"bad\", \"terrible\"], \"and\", \"terrible\")\n",
    "r7 = Rule(1, [\"bad\", \"bad\"], \"and\", \"bad\")\n",
    "r8 = Rule(1, [\"bad\", \"acceptable\"], \"and\", \"bad\")\n",
    "r9 = Rule(1, [\"bad\", \"good\"], \"and\", \"bad\")\n",
    "r10 = Rule(1, [\"bad\", \"excellent\"], \"and\", \"acceptable\")\n",
    "\n",
    "r11 = Rule(1, [\"acceptable\", \"terrible\"], \"and\", \"bad\")\n",
    "r12 = Rule(1, [\"acceptable\", \"bad\"], \"and\", \"acceptable\")\n",
    "r13 = Rule(1, [\"acceptable\", \"acceptable\"], \"and\", \"acceptable\")\n",
    "r14 = Rule(1, [\"acceptable\", \"good\"], \"and\", \"acceptable\")\n",
    "r15 = Rule(1, [\"acceptable\", \"excellent\"], \"and\", \"good\")\n",
    "\n",
    "r16 = Rule(1, [\"good\", \"terrible\"], \"and\", \"acceptable\")\n",
    "r17 = Rule(1, [\"good\", \"bad\"], \"and\", \"good\")\n",
    "r18 = Rule(1, [\"good\", \"acceptable\"], \"and\", \"good\")\n",
    "r19 = Rule(1, [\"good\", \"good\"], \"and\", \"good\")\n",
    "r20 = Rule(1, [\"good\", \"excellent\"], \"and\", \"excellent\")\n",
    "\n",
    "r21 = Rule(1, [\"excellent\", \"terrible\"], \"and\", \"good\")\n",
    "r22 = Rule(1, [\"excellent\", \"bad\"], \"and\", \"good\")\n",
    "r23 = Rule(1, [\"excellent\", \"acceptable\"], \"and\", \"excellent\")\n",
    "r24 = Rule(1, [\"excellent\", \"good\"], \"and\", \"excellent\")\n",
    "r25 = Rule(1, [\"excellent\", \"excellent\"], \"and\", \"excellent\")\n",
    "\n",
    "performing_rules = [r1, r2, r3, r4, r5, r6, r7, r8, r9, r10, r11, r12, r13, r14, r15, r16, r17, r18, r19, r20, r21, r22, r23, r24, r25]\n",
    "\n",
    "#Can for now also be used as creating rulebase. But we might want to weigh the variables differently there.\n",
    "performing_rulebase = Rulebase(performing_rules)\n",
    "print(performing_rulebase.calculate_firing_strengths([7.5, 8], [actor_input, ve_input]))\n"
   ]
  },
  {
   "cell_type": "code",
   "execution_count": 22,
   "metadata": {
    "collapsed": true
   },
   "outputs": [],
   "source": [
    "# Rulebase that takes performing and creating as input and gives crew as output (equal weight)\n",
    "r1 = Rule(1, [\"terrible\", \"terrible\"], \"and\", \"terrible\")\n",
    "r2 = Rule(1, [\"terrible\", \"bad\"], \"and\", \"terrible\")\n",
    "r3 = Rule(1, [\"terrible\", \"acceptable\"], \"and\", \"bad\")\n",
    "r4 = Rule(1, [\"terrible\", \"good\"], \"and\", \"bad\")\n",
    "r5 = Rule(1, [\"terrible\", \"excellent\"], \"and\", \"acceptable\")\n",
    "\n",
    "r6 = Rule(1, [\"bad\", \"terrible\"], \"and\", \"terrible\")\n",
    "r7 = Rule(1, [\"bad\", \"bad\"], \"and\", \"bad\")\n",
    "r8 = Rule(1, [\"bad\", \"acceptable\"], \"and\", \"acceptable\")\n",
    "r9 = Rule(1, [\"bad\", \"good\"], \"and\", \"acceptable\")\n",
    "r10 = Rule(1, [\"bad\", \"excellent\"], \"and\", \"good\")\n",
    "\n",
    "r11 = Rule(1, [\"acceptable\", \"terrible\"], \"and\", \"bad\")\n",
    "r12 = Rule(1, [\"acceptable\", \"bad\"], \"and\", \"acceptable\")\n",
    "r13 = Rule(1, [\"acceptable\", \"acceptable\"], \"and\", \"acceptable\")\n",
    "r14 = Rule(1, [\"acceptable\", \"good\"], \"and\", \"good\")\n",
    "r15 = Rule(1, [\"acceptable\", \"excellent\"], \"and\", \"good\")\n",
    "\n",
    "r16 = Rule(1, [\"good\", \"terrible\"], \"and\", \"bad\")\n",
    "r17 = Rule(1, [\"good\", \"bad\"], \"and\", \"acceptable\")\n",
    "r18 = Rule(1, [\"good\", \"acceptable\"], \"and\", \"good\")\n",
    "r19 = Rule(1, [\"good\", \"good\"], \"and\", \"good\")\n",
    "r20 = Rule(1, [\"good\", \"excellent\"], \"and\", \"excellent\")\n",
    "\n",
    "r21 = Rule(1, [\"excellent\", \"terrible\"], \"and\", \"acceptable\")\n",
    "r22 = Rule(1, [\"excellent\", \"bad\"], \"and\", \"good\")\n",
    "r23 = Rule(1, [\"excellent\", \"acceptable\"], \"and\", \"good\")\n",
    "r24 = Rule(1, [\"excellent\", \"good\"], \"and\", \"excellent\")\n",
    "r25 = Rule(1, [\"excellent\", \"excellent\"], \"and\", \"excellent\")\n",
    "crew_rules = [r1, r2, r3, r4, r5, r6, r7, r8, r9, r10, r11, r12, r13, r14, r15, r16, r17, r18, r19, r20, r21, r22, r23, r24, r25]\n",
    "crew_rulebase = Rulebase(crew_rules)"
   ]
  },
  {
   "cell_type": "code",
   "execution_count": 23,
   "metadata": {},
   "outputs": [],
   "source": [
    "# Rulebase that takes crew and budget as input and gives rating as output\n",
    "r1 = Rule(1, [\"terrible\", \"low\"], \"and\", \"terrible\")\n",
    "r2 = Rule(1, [\"terrible\", \"medium\"], \"and\", \"bad\")\n",
    "r3 = Rule(1, [\"terrible\", \"high\"], \"and\", \"bad\")\n",
    "\n",
    "r4 = Rule(1, [\"bad\", \"low\"], \"and\", \"bad\")\n",
    "r5 = Rule(1, [\"bad\", \"medium\"], \"and\", \"acceptable\")\n",
    "r6 = Rule(1, [\"bad\", \"high\"], \"and\", \"acceptable\")\n",
    "\n",
    "r7 = Rule(1, [\"acceptable\", \"low\"], \"and\", \"acceptable\")\n",
    "r8 = Rule(1, [\"acceptable\", \"medium\"], \"and\", \"acceptable\")\n",
    "r9 = Rule(1, [\"acceptable\", \"high\"], \"and\", \"good\")\n",
    "\n",
    "r10 = Rule(1, [\"good\", \"low\"], \"and\", \"acceptable\")\n",
    "r11 = Rule(1, [\"good\", \"medium\"], \"and\", \"good\")\n",
    "r12 = Rule(1, [\"good\", \"high\"], \"and\", \"excellent\")\n",
    "\n",
    "r13 = Rule(1, [\"excellent\", \"low\"], \"and\", \"good\")\n",
    "r14 = Rule(1, [\"excellent\", \"medium\"], \"and\", \"excellent\")\n",
    "r15 = Rule(1, [\"excellent\", \"high\"], \"and\", \"excellent\")\n",
    "rating_rules = [r1, r2, r3, r4, r5, r6, r7, r8, r9, r10, r11, r12, r13, r14, r15]\n",
    "rating_rulebase = Rulebase(rating_rules)"
   ]
  },
  {
   "cell_type": "markdown",
   "metadata": {},
   "source": [
    "The Rule-base Class"
   ]
  },
  {
   "cell_type": "code",
   "execution_count": null,
   "metadata": {
    "collapsed": true
   },
   "outputs": [],
   "source": []
  },
  {
   "cell_type": "markdown",
   "metadata": {},
   "source": [
    "The inference-algorithm. Support nu alleen nog Mandami-inference met 'smallest of max' en 'largest of max' als defuzzification."
   ]
  },
  {
   "cell_type": "code",
   "execution_count": 24,
   "metadata": {
    "collapsed": true
   },
   "outputs": [],
   "source": [
    "class Reasoner:\n",
    "    def __init__(self, rulebase, inputs, output, n_points, defuzzification):\n",
    "        self.rulebase = rulebase\n",
    "        self.inputs = inputs\n",
    "        self.output = output\n",
    "        self.discretize = n_points\n",
    "        self.defuzzification = defuzzification\n",
    "\n",
    "    def inference(self, datapoint):\n",
    "        # 1. Calculate the highest firing strength found in the rules per \n",
    "        # membership function of the output variable\n",
    "        # looks like: {\"low\":0.5, \"medium\":0.25, \"high\":0}        \n",
    "        firing_strengths = (self.rulebase.calculate_firing_strengths(datapoint, self.inputs))\n",
    "        print(firing_strengths)\n",
    "\n",
    "        # 2. Aggragate and discretize\n",
    "        # looks like: [(0.0, 1), (1.2437810945273631, 1), (2.4875621890547261, 1), (3.7313432835820892, 1), ...]\n",
    "        input_value_pairs = self.aggregate(firing_strengths)\n",
    "        \n",
    "        # 3. Defuzzify\n",
    "        # looks like a scalar\n",
    "        crisp_output = self.defuzzify(input_value_pairs)\n",
    "        return crisp_output\n",
    "\n",
    "    def aggregate(self, firing_strengths):\n",
    "        \n",
    "        # First find where the aggrageted area starts and ends\n",
    "        (start, end) = (-1, -1)\n",
    "        for fs in firing_strengths:\n",
    "            if firing_strengths[fs] > 0.0:\n",
    "                mf = self.output.get_mf_by_name(fs)\n",
    "                (s, e) = mf.get_range()\n",
    "                if start == -1 or s <= start:\n",
    "                    start = s\n",
    "                if end == -1 or end <= e:\n",
    "                    end = e\n",
    "        # print(start, end)\n",
    "        # Second discretize this area and aggragate      \n",
    "        # Your code here\n",
    "        step_size = (end-start)/(float(self.discretize) - 1.0)\n",
    "        input_value_pairs = []\n",
    "        while start <= end:\n",
    "            memb = self.memb_of_agg(firing_strengths, start)\n",
    "            input_value_pairs.append((start, memb))\n",
    "            start += step_size\n",
    "        return input_value_pairs\n",
    "        \n",
    "\n",
    "    def memb_of_agg(self, firing_strengths, x):\n",
    "        strength = 0\n",
    "        for fs in firing_strengths:\n",
    "            mf = self.output.get_mf_by_name(fs)\n",
    "            m = mf.calculate_membership(x)\n",
    "            m = min(m, firing_strengths[fs])\n",
    "            if m > strength:\n",
    "                strength = m\n",
    "        return strength\n",
    "\n",
    "    def defuzzify(self, input_value_pairs):\n",
    "        crisp = -1\n",
    "        maximum = 0\n",
    "        if self.defuzzification == 'som':\n",
    "            for (i, v) in input_value_pairs:\n",
    "                if v > maximum or crisp == -1:\n",
    "                    crisp = i\n",
    "                    maximum = v\n",
    "        if self.defuzzification =='lom':\n",
    "            for (i, v) in input_value_pairs:\n",
    "                if v >= maximum or crisp == -1:\n",
    "                    crisp = i\n",
    "                    maximum = v\n",
    "        return crisp\n",
    "    \n",
    "    "
   ]
  },
  {
   "cell_type": "code",
   "execution_count": 25,
   "metadata": {
    "collapsed": true
   },
   "outputs": [],
   "source": [
    "actor_thinker = Reasoner(actor_rulebase, [average_movie_rating, actor_movies], actor_output, 201, \"som\")\n",
    "ve_thinker = Reasoner(actor_rulebase, [average_movie_rating, ve_movies], ve_output, 201, \"som\")\n",
    "director_thinker = Reasoner(actor_rulebase, [average_movie_rating, director_movies], director_output, 201, \"som\")\n",
    "composer_thinker = Reasoner(actor_rulebase, [average_movie_rating, composer_movies], composer_output, 201, \"som\")\n",
    "\n",
    "creating_thinker = Reasoner(performing_rulebase, [actor_input, ve_input], creating_output, 201, \"som\")\n",
    "performing_thinker = Reasoner(performing_rulebase, [composer_input, director_input], performing_output, 201, \"som\")\n",
    "\n",
    "crew_thinker = Reasoner(crew_rulebase, [creating_input, performing_input], crew_output, 201, \"som\")\n",
    "\n",
    "rating_thinker = Reasoner(rating_rulebase, [crew_input, budget], rating, 201, \"som\")"
   ]
  },
  {
   "cell_type": "code",
   "execution_count": 26,
   "metadata": {},
   "outputs": [
    {
     "name": "stdout",
     "output_type": "stream",
     "text": [
      "Counter({'good': 0.5})\n",
      "Counter({'acceptable': 0.5})\n",
      "Counter({'acceptable': 0.6666666666666666})\n",
      "Counter({'terrible': 1.0})\n",
      "Counter({'acceptable': 0.5})\n",
      "Counter({'bad': 0.5})\n",
      "Counter({'acceptable': 0.5})\n",
      "Counter({'good': 0.5, 'acceptable': 0.1353352832366127})\n",
      "Crew components\n",
      "7\n",
      "6\n",
      "6\n",
      "0\n",
      "Creating and directing\n",
      "6\n",
      "4\n",
      "Crew\n",
      "6\n",
      "rating\n",
      "7\n"
     ]
    }
   ],
   "source": [
    "#EXAMPLE\n",
    "#actor = actor_rulebase.calculate_firing_strengths([7.5, 8], [average_movie_rating, actor_movies])\n",
    "actor_score = round(actor_thinker.inference([7.5, 8]))\n",
    "ve_score = round(ve_thinker.inference([6, 5]))\n",
    "director_score = round(director_thinker.inference([5, 10]))\n",
    "composer_score = round(composer_thinker.inference([2, 3]))\n",
    "\n",
    "creating_score = round(creating_thinker.inference([actor_score, ve_score]))\n",
    "performing_score = round(performing_thinker.inference([director_score, composer_score]))\n",
    "\n",
    "crew_score = round(crew_thinker.inference([creating_score, performing_score]))\n",
    "rating_score = round(rating_thinker.inference([crew_score, 200]))\n",
    "\n",
    "print(\"Crew components\")\n",
    "print(actor_score)\n",
    "print(ve_score)\n",
    "print(director_score)\n",
    "print(composer_score)\n",
    "\n",
    "print(\"Creating and directing\")\n",
    "print(creating_score)\n",
    "print(performing_score)\n",
    "\n",
    "print(\"Crew\")\n",
    "print(crew_score)\n",
    "print(\"rating\")\n",
    "print(rating_score)"
   ]
  },
  {
   "cell_type": "code",
   "execution_count": 32,
   "metadata": {},
   "outputs": [],
   "source": [
    "# Now we import our database class:\n",
    "import datainteraction as d\n",
    "data = d.Datainteraction()"
   ]
  },
  {
   "cell_type": "code",
   "execution_count": 33,
   "metadata": {},
   "outputs": [
    {
     "data": {
      "text/plain": [
       "0.06"
      ]
     },
     "execution_count": 33,
     "metadata": {},
     "output_type": "execute_result"
    }
   ],
   "source": [
    "data.get_budget('Harry(2018)')"
   ]
  },
  {
   "cell_type": "code",
   "execution_count": 53,
   "metadata": {
    "collapsed": true
   },
   "outputs": [],
   "source": [
    "def rate_movie(moviename, data):\n",
    "    #EXAMPLE\n",
    "    #actor = actor_rulebase.calculate_firing_strengths([7.5, 8], [average_movie_rating, actor_movies])\n",
    "    actorvalues = data.actor_values(moviename)\n",
    "    vevalues = data.special_values(moviename)\n",
    "    directorvalues = data.director_values(moviename)\n",
    "    composervalues = data.composer_values(moviename)\n",
    "    budget = data.get_budget(moviename)\n",
    "    print('input values for ' + moviename + ':')\n",
    "    print('composer values:', composervalues)\n",
    "    print('moviebudget:', budget)\n",
    "    print('directorvalues:', directorvalues)\n",
    "    print('visual studio value:', vevalues)\n",
    "    print('Actorvalues', actorvalues)\n",
    "    print('')\n",
    "    \n",
    "    print('calculations:')\n",
    "    actor_score = round(actor_thinker.inference(actorvalues))\n",
    "    ve_score = round(ve_thinker.inference(vevalues))\n",
    "    director_score = round(director_thinker.inference(directorvalues))\n",
    "    composer_score = round(composer_thinker.inference(composervalues))\n",
    "\n",
    "    creating_score = round(creating_thinker.inference([actor_score, ve_score]))\n",
    "    performing_score = round(performing_thinker.inference([director_score, composer_score]))\n",
    "\n",
    "    crew_score = round(crew_thinker.inference([creating_score, performing_score]))\n",
    "    rating_score = round(rating_thinker.inference([crew_score, budget]))\n",
    "\n",
    "    print(\"Crew components\")\n",
    "    print(actor_score)\n",
    "    print(ve_score)\n",
    "    print(director_score)\n",
    "    print(composer_score)\n",
    "\n",
    "    print(\"Creating and directing\")\n",
    "    print(creating_score)\n",
    "    print(performing_score)\n",
    "\n",
    "    print(\"Crew\")\n",
    "    print(crew_score)\n",
    "    print(\"\\nResulting rating:\")\n",
    "    print(rating_score)\n",
    "    return(rating_score)"
   ]
  },
  {
   "cell_type": "code",
   "execution_count": 54,
   "metadata": {},
   "outputs": [
    {
     "name": "stdout",
     "output_type": "stream",
     "text": [
      "input values for Sjaakie(2017):\n",
      "composer values: (8.5999999999999996, 1.0)\n",
      "moviebudget: 0.06\n",
      "directorvalues: (8.6333333333333346, 3.0)\n",
      "visual studio value: (8.9000000000000004, 1.0)\n",
      "Actorvalues (8.3499999999999996, 2.0)\n",
      "\n",
      "calculations:\n",
      "Counter({'good': 1.0, 'acceptable': 0.20000000000000048})\n",
      "Counter({'good': 1.0})\n",
      "Counter({'good': 1.0})\n",
      "Counter({'good': 1.0})\n",
      "Counter({'excellent': 1.0, 'good': 0.6666666666666666})\n",
      "Counter({'excellent': 1.0, 'good': 0.6666666666666666})\n",
      "Counter({'excellent': 1.0, 'good': 0.6666666666666666})\n",
      "Counter({'good': 0.999998000002, 'acceptable': 0.6666666666666666, 'excellent': 0.41166059999312826})\n",
      "Crew components\n",
      "8\n",
      "8\n",
      "8\n",
      "8\n",
      "Creating and directing\n",
      "8\n",
      "8\n",
      "Crew\n",
      "8\n",
      "\n",
      "Resulting rating:\n",
      "8\n"
     ]
    },
    {
     "data": {
      "text/plain": [
       "8"
      ]
     },
     "execution_count": 54,
     "metadata": {},
     "output_type": "execute_result"
    }
   ],
   "source": [
    "rate_movie('Sjaakie(2017)', data)"
   ]
  },
  {
   "cell_type": "code",
   "execution_count": 55,
   "metadata": {},
   "outputs": [
    {
     "name": "stdout",
     "output_type": "stream",
     "text": [
      "input values for Harry(2018):\n",
      "composer values: (8.5999999999999996, 1.0)\n",
      "moviebudget: 100.0\n",
      "directorvalues: (8.3666666666666671, 3.0)\n",
      "visual studio value: (8.5999999999999996, 1.0)\n",
      "Actorvalues (8.5500000000000007, 1.5)\n",
      "\n",
      "calculations:\n",
      "Counter({'good': 1.0})\n",
      "Counter({'good': 1.0})\n",
      "Counter({'good': 1.0, 'acceptable': 0.17777777777777715})\n",
      "Counter({'good': 1.0})\n",
      "Counter({'excellent': 1.0, 'good': 0.6666666666666666})\n",
      "Counter({'excellent': 1.0, 'good': 0.6666666666666666})\n",
      "Counter({'excellent': 1.0, 'good': 0.6666666666666666})\n",
      "Counter({'excellent': 0.9459594689067654, 'good': 0.6666666666666666, 'acceptable': 0.0038659201394728076})\n",
      "Crew components\n",
      "8\n",
      "8\n",
      "8\n",
      "8\n",
      "Creating and directing\n",
      "8\n",
      "8\n",
      "Crew\n",
      "8\n",
      "\n",
      "Resulting rating:\n",
      "8\n"
     ]
    },
    {
     "data": {
      "text/plain": [
       "8"
      ]
     },
     "execution_count": 55,
     "metadata": {},
     "output_type": "execute_result"
    }
   ],
   "source": [
    "rate_movie('Harry(2018)', data)"
   ]
  },
  {
   "cell_type": "code",
   "execution_count": null,
   "metadata": {
    "collapsed": true
   },
   "outputs": [],
   "source": []
  }
 ],
 "metadata": {
  "kernelspec": {
   "display_name": "Python 3",
   "language": "python",
   "name": "python3"
  },
  "language_info": {
   "codemirror_mode": {
    "name": "ipython",
    "version": 3
   },
   "file_extension": ".py",
   "mimetype": "text/x-python",
   "name": "python",
   "nbconvert_exporter": "python",
   "pygments_lexer": "ipython3",
   "version": "3.6.1"
  }
 },
 "nbformat": 4,
 "nbformat_minor": 2
}
