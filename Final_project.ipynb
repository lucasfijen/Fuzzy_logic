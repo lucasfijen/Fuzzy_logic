{
 "cells": [
  {
   "cell_type": "markdown",
   "metadata": {},
   "source": [
    "# Our Fuzzy IMDB-rating system  "
   ]
  },
  {
   "cell_type": "markdown",
   "metadata": {},
   "source": [
    "The different types of membership functions"
   ]
  },
  {
   "cell_type": "code",
   "execution_count": 3,
   "metadata": {},
   "outputs": [],
   "source": [
    "import math\n",
    "import numpy as np\n",
    "from collections import defaultdict, Counter\n",
    "\n",
    "\n",
    "#Needs Float input\n",
    "class TriangularMF:\n",
    "    \"\"\"Triangular fuzzy logic membership function class.\"\"\"\n",
    "    def __init__(self, name, start, top, end):\n",
    "        self.name = name\n",
    "        self.start = float(start)\n",
    "        self.top = float(top)\n",
    "        self.end = float(end)\n",
    "\n",
    "    def calculate_membership(self, x):\n",
    "        if x < self.start or x > self.end:\n",
    "            return(0.0)\n",
    "        if x < self.top:\n",
    "            return (x-self.start)/(self.top-self.start)\n",
    "        if x > self.top:\n",
    "            return (self.end-x)/(self.end-self.top)\n",
    "        if x == self.top:\n",
    "            return 1.0\n",
    "    \n",
    "    def get_range(self):\n",
    "        return(self.start, self.end)\n",
    "        \n",
    "#Needs Float input\n",
    "class TrapezoidalMF:\n",
    "    \"\"\"Trapezoidal fuzzy logic membership function class.\"\"\"\n",
    "    def __init__(self, name, start, left_top, right_top, end):\n",
    "        self.name = name\n",
    "        self.start = float(start)\n",
    "        self.left_top = float(left_top)\n",
    "        self.right_top = float(right_top)\n",
    "        self.end = float(end)\n",
    "\n",
    "    def calculate_membership(self, x):\n",
    "        if x < self.start or x > self.end:\n",
    "            return 0.0\n",
    "        if x < self.left_top:\n",
    "            return (x-self.start)/(self.left_top - self.start)\n",
    "        if x > self.right_top:\n",
    "            return (self.end-x)/(self.end-self.right_top)\n",
    "        if x >= self.left_top and x <= self.right_top:\n",
    "            return 1.0\n",
    "\n",
    "    def get_range(self):\n",
    "        return(self.start, self.end)\n"
   ]
  },
  {
   "cell_type": "markdown",
   "metadata": {},
   "source": [
    "The Variable-class"
   ]
  },
  {
   "cell_type": "code",
   "execution_count": 5,
   "metadata": {},
   "outputs": [],
   "source": [
    "class Variable:\n",
    "    \"\"\"General class for variables in an FLS.\"\"\"\n",
    "    def __init__(self, name, range, mfs):\n",
    "        self.name = name\n",
    "        self.range = range\n",
    "        self.mfs = mfs\n",
    "\n",
    "    def calculate_memberships(self, x):\n",
    "        \"\"\"Test function to check whether\n",
    "        you put together the right mfs in your variables.\"\"\"\n",
    "        return {\n",
    "            mf.name : mf.calculate_membership(x)\n",
    "            for mf in self.mfs\n",
    "        }\n",
    "\n",
    "    def get_mf_by_name(self, name):\n",
    "        for mf in self.mfs:\n",
    "            if mf.name == name:\n",
    "                return mf\n",
    "\n",
    "class Input(Variable):\n",
    "    \"\"\"Class for input variables, inherits \n",
    "    variables and functions from superclass Variable.\"\"\"\n",
    "    def __init__(self, name, range, mfs):\n",
    "        super().__init__(name, range, mfs)\n",
    "        self.type = \"input\"\n",
    "\n",
    "class Output(Variable):\n",
    "    \"\"\"Class for output variables, inherits \n",
    "    variables and functions from superclass Variable.\"\"\"\n",
    "    def __init__(self, name, range, mfs):\n",
    "        super().__init__(name, range, mfs)\n",
    "        self.type = \"output\""
   ]
  },
  {
   "cell_type": "markdown",
   "metadata": {},
   "source": [
    "Hier moeten we variabelen en hun Membership-functies gaan definieren"
   ]
  },
  {
   "cell_type": "code",
   "execution_count": null,
   "metadata": {},
   "outputs": [],
   "source": []
  },
  {
   "cell_type": "markdown",
   "metadata": {},
   "source": [
    "The Rule-class"
   ]
  },
  {
   "cell_type": "code",
   "execution_count": 6,
   "metadata": {},
   "outputs": [],
   "source": [
    "class Rule:\n",
    "    \"\"\"Fuzzy rule class, initialized with an antecedent (list of strings),\n",
    "    operator (string) and consequent (string).\"\"\"\n",
    "    def __init__(self, n, antecedent, operator, consequent):\n",
    "        self.number = n\n",
    "        self.antecedent = antecedent\n",
    "        self.operator = operator\n",
    "        self.consequent = consequent\n",
    "        self.firing_strength = 0\n",
    "\n",
    "    def calculate_firing_strength(self, datapoint, inputs):\n",
    "        fs = []\n",
    "        for index, variable in enumerate(inputs):\n",
    "#            print(index)\n",
    "            memb_dict = (variable.calculate_memberships(datapoint[index]))\n",
    "            fs.append(memb_dict[self.antecedent[index]])\n",
    "        if self.operator == 'and':\n",
    "            self.firing_strength = min(fs)\n",
    "        if self.operator == 'or':    \n",
    "            self.firing_strength = max(fs)\n",
    "        return self.firing_strength"
   ]
  },
  {
   "cell_type": "markdown",
   "metadata": {},
   "source": [
    "Hier moeten we Rules gaan definieren"
   ]
  },
  {
   "cell_type": "code",
   "execution_count": null,
   "metadata": {},
   "outputs": [],
   "source": []
  },
  {
   "cell_type": "markdown",
   "metadata": {},
   "source": [
    "The Rule-base Class"
   ]
  },
  {
   "cell_type": "code",
   "execution_count": null,
   "metadata": {},
   "outputs": [],
   "source": [
    "from collections import Counter\n",
    "\n",
    "class Rulebase:\n",
    "    \"\"\"The fuzzy rulebase collects all rules for the FLS, can\n",
    "    calculate the firing strengths of its rules.\"\"\"\n",
    "    def __init__(self, rules):\n",
    "        self.rules = rules\n",
    "\n",
    "    def calculate_firing_strengths(self, datapoint, inputs):\n",
    "        result = Counter()\n",
    "        for i, rule in enumerate(self.rules):\n",
    "            fs = rule.calculate_firing_strength(datapoint, inputs)\n",
    "            consequent = rule.consequent\n",
    "            if fs > result[consequent]:\n",
    "                result[consequent] = fs\n",
    "        return result\n",
    "    \n",
    "#Hier moeten we onze Rulebase aanmaken"
   ]
  },
  {
   "cell_type": "markdown",
   "metadata": {},
   "source": [
    "The inference-algorithm. Support nu alleen nog Mandami-inference met 'smallest of max' en 'largest of max' als defuzzification."
   ]
  },
  {
   "cell_type": "code",
   "execution_count": 7,
   "metadata": {},
   "outputs": [],
   "source": [
    "class Reasoner:\n",
    "    def __init__(self, rulebase, inputs, output, n_points, defuzzification):\n",
    "        self.rulebase = rulebase\n",
    "        self.inputs = inputs\n",
    "        self.output = output\n",
    "        self.discretize = n_points\n",
    "        self.defuzzification = defuzzification\n",
    "\n",
    "    def inference(self, datapoint):\n",
    "        # 1. Calculate the highest firing strength found in the rules per \n",
    "        # membership function of the output variable\n",
    "        # looks like: {\"low\":0.5, \"medium\":0.25, \"high\":0}        \n",
    "        firing_strengths = (rulebase.calculate_firing_strengths(datapoint, self.inputs))\n",
    "        print(firing_strengths)\n",
    "\n",
    "        # 2. Aggragate and discretize\n",
    "        # looks like: [(0.0, 1), (1.2437810945273631, 1), (2.4875621890547261, 1), (3.7313432835820892, 1), ...]\n",
    "        input_value_pairs = self.aggregate(firing_strengths)\n",
    "        \n",
    "        # 3. Defuzzify\n",
    "        # looks like a scalar\n",
    "        crisp_output = self.defuzzify(input_value_pairs)\n",
    "        return crisp_output\n",
    "\n",
    "    def aggregate(self, firing_strengths):\n",
    "        \n",
    "        # First find where the aggrageted area starts and ends\n",
    "        (start, end) = (-1, -1)\n",
    "        for fs in firing_strengths:\n",
    "            if firing_strengths[fs] > 0.0:\n",
    "                mf = self.output.get_mf_by_name(fs)\n",
    "                (s, e) = mf.get_range()\n",
    "                if start == -1 or s <= start:\n",
    "                    start = s\n",
    "                if end == -1 or end <= e:\n",
    "                    end = e\n",
    "#        print(start, end)\n",
    "        # Second discretize this area and aggragate      \n",
    "        # Your code here\n",
    "        step_size = (end-start)/(float(self.discretize) - 1.0)\n",
    "        input_value_pairs = []\n",
    "        while start <= end:\n",
    "            memb = self.memb_of_agg(firing_strengths, start)\n",
    "            input_value_pairs.append((start, memb))\n",
    "            start += step_size\n",
    "        return input_value_pairs\n",
    "        \n",
    "\n",
    "    def memb_of_agg(self, firing_strengths, x):\n",
    "        strength = 0\n",
    "        for fs in firing_strengths:\n",
    "            mf = self.output.get_mf_by_name(fs)\n",
    "            m = mf.calculate_membership(x)\n",
    "            m = min(m, firing_strengths[fs])\n",
    "            if m > strength:\n",
    "                strength = m\n",
    "        return strength\n",
    "\n",
    "    def defuzzify(self, input_value_pairs):\n",
    "        crisp = -1\n",
    "        maximum = 0\n",
    "        if self.defuzzification == 'som':\n",
    "            for (i, v) in input_value_pairs:\n",
    "                if v > maximum or crisp == -1:\n",
    "                    crisp = i\n",
    "                    maximum = v\n",
    "        if self.defuzzification =='lom':\n",
    "            for (i, v) in input_value_pairs:\n",
    "                if v >= maximum or crisp == -1:\n",
    "                    crisp = i\n",
    "                    maximum = v\n",
    "        return crisp"
   ]
  },
  {
   "cell_type": "code",
   "execution_count": null,
   "metadata": {},
   "outputs": [],
   "source": []
  },
  {
   "cell_type": "code",
   "execution_count": null,
   "metadata": {},
   "outputs": [],
   "source": []
  },
  {
   "cell_type": "code",
   "execution_count": null,
   "metadata": {},
   "outputs": [],
   "source": []
  }
 ],
 "metadata": {
  "kernelspec": {
   "display_name": "Python 3",
   "language": "python",
   "name": "python3"
  },
  "language_info": {
   "codemirror_mode": {
    "name": "ipython",
    "version": 3
   },
   "file_extension": ".py",
   "mimetype": "text/x-python",
   "name": "python",
   "nbconvert_exporter": "python",
   "pygments_lexer": "ipython3",
   "version": "3.5.2"
  }
 },
 "nbformat": 4,
 "nbformat_minor": 2
}
