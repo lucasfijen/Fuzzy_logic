{
 "cells": [
  {
   "cell_type": "markdown",
   "metadata": {},
   "source": [
    "# Fuzzy IMDB-rating system  \n",
    "Made by:\n",
    "Arie Soeteman & Lucas Fijen\n"
   ]
  },
  {
   "cell_type": "markdown",
   "metadata": {},
   "source": [
    "The different types of membership functions"
   ]
  },
  {
   "cell_type": "code",
   "execution_count": 415,
   "metadata": {},
   "outputs": [],
   "source": [
    "import math\n",
    "import numpy as np\n",
    "from collections import defaultdict, Counter\n",
    "\n",
    "\n",
    "#Needs Float input\n",
    "class TriangularMF:\n",
    "    def __init__(self, name, start, top, end):\n",
    "        self.name = name\n",
    "        self.start = float(start)\n",
    "        self.top = float(top)\n",
    "        self.end = float(end)\n",
    "\n",
    "    def calculate_membership(self, x):\n",
    "        if x < self.start or x > self.end:\n",
    "            return(0.0)\n",
    "        if x < self.top:\n",
    "            return (x-self.start)/(self.top-self.start)\n",
    "        if x > self.top:\n",
    "            return (self.end-x)/(self.end-self.top)\n",
    "        if x == self.top:\n",
    "            return 1.0\n",
    "    \n",
    "    def get_range(self):\n",
    "        return(self.start, self.end)\n",
    "        \n",
    "#Needs Float input\n",
    "class TrapezoidalMF:\n",
    "    def __init__(self, name, start, left_top, right_top, end):\n",
    "        self.name = name\n",
    "        self.start = float(start)\n",
    "        self.left_top = float(left_top)\n",
    "        self.right_top = float(right_top)\n",
    "        self.end = float(end)\n",
    "\n",
    "    def calculate_membership(self, x):\n",
    "        if x < self.start or x > self.end:\n",
    "            return 0.0\n",
    "        if x < self.left_top:\n",
    "            return (x-self.start)/(self.left_top - self.start)\n",
    "        if x > self.right_top:\n",
    "            return (self.end-x)/(self.end-self.right_top)\n",
    "        if x >= self.left_top and x <= self.right_top:\n",
    "            return 1.0\n",
    "\n",
    "    def get_range(self):\n",
    "        return(self.start, self.end)\n",
    "    \n",
    "class GaussianMF:\n",
    "    def __init__(self, name, mean, std):\n",
    "        self.name = name\n",
    "        self.mean = mean\n",
    "        self.std = std\n",
    "\n",
    "    def calculate_membership(self, x):\n",
    "        exp = (-1*(x-self.mean)**2)/(2*self.std**2)\n",
    "        return math.exp(exp)\n",
    "        #     def calculate_membership(self, x):\n",
    "#         first = float(1)/(math.sqrt(2*math.pi)*self.std)\n",
    "#         second = (x-self.mean)**2\n",
    "#         second = second/(2*(self.std**2))\n",
    "#         return(first * math.exp(-second))\n",
    "\n",
    "    # Calculate range as that of 99.7% of the entire fuzzy set (3 standard deviations)\n",
    "    def get_range(self):\n",
    "        start = self.mean - 3*self.std\n",
    "        end = self.mean + 3*self.std\n",
    "        return(start, end)\n"
   ]
  },
  {
   "cell_type": "code",
   "execution_count": 416,
   "metadata": {},
   "outputs": [
    {
     "name": "stdout",
     "output_type": "stream",
     "text": [
      "0.6065306597126334\n",
      "(4, 16)\n"
     ]
    }
   ],
   "source": [
    "g = GaussianMF(\"gaus\", 10, 2)\n",
    "print(g.calculate_membership(8))\n",
    "print(g.get_range())"
   ]
  },
  {
   "cell_type": "markdown",
   "metadata": {},
   "source": [
    "The Variable-class"
   ]
  },
  {
   "cell_type": "code",
   "execution_count": 417,
   "metadata": {},
   "outputs": [],
   "source": [
    "class Variable:\n",
    "    \"\"\"General class for variables in an FLS.\"\"\"\n",
    "    def __init__(self, name, range, mfs):\n",
    "        self.name = name\n",
    "        self.range = range\n",
    "        self.mfs = mfs\n",
    "\n",
    "    def calculate_memberships(self, x):\n",
    "        \"\"\"Test function to check whether\n",
    "        you put together the right mfs in your variables.\"\"\"\n",
    "        return {\n",
    "            mf.name : mf.calculate_membership(x)\n",
    "            for mf in self.mfs\n",
    "        }\n",
    "\n",
    "    def get_mf_by_name(self, name):\n",
    "        for mf in self.mfs:\n",
    "            if mf.name == name:\n",
    "                return mf\n",
    "\n",
    "class Input(Variable):\n",
    "    \"\"\"Class for input variables, inherits \n",
    "    variables and functions from superclass Variable.\"\"\"\n",
    "    def __init__(self, name, range, mfs):\n",
    "        super().__init__(name, range, mfs)\n",
    "        self.type = \"input\"\n",
    "\n",
    "class Output(Variable):\n",
    "    \"\"\"Class for output variables, inherits \n",
    "    variables and functions from superclass Variable.\"\"\"\n",
    "    def __init__(self, name, range, mfs):\n",
    "        super().__init__(name, range, mfs)\n",
    "        self.type = \"output\""
   ]
  },
  {
   "cell_type": "markdown",
   "metadata": {},
   "source": [
    "Hier moeten we variabelen en hun Membership-functies gaan definieren"
   ]
  },
  {
   "cell_type": "code",
   "execution_count": 418,
   "metadata": {},
   "outputs": [
    {
     "data": {
      "text/plain": [
       "{'few': 1.0, 'medium': 0.0, 'much': 0.0, 'very_much': 0.0}"
      ]
     },
     "execution_count": 418,
     "metadata": {},
     "output_type": "execute_result"
    }
   ],
   "source": [
    "# Number of Movies for actors\n",
    "few = TrapezoidalMF('few', 0, 0, 8, 12)\n",
    "medium = TriangularMF('medium', 8, 18, 28)\n",
    "much = TriangularMF('much', 20, 42, 62)\n",
    "very_much = TrapezoidalMF('very_much', 48, 100, 300, 300)\n",
    "mfs_actor_movies = [few, medium, much, very_much]\n",
    "actor_movies = Input('actor_movies', (0, 300), mfs_actor_movies)\n",
    "\n",
    "actor_movies.calculate_memberships(4)"
   ]
  },
  {
   "cell_type": "code",
   "execution_count": 419,
   "metadata": {},
   "outputs": [],
   "source": [
    "# Number of Movies for Director\n",
    "few = TrapezoidalMF('few', 0, 0, 10, 15)\n",
    "medium = TriangularMF('medium', 10, 20, 30)\n",
    "much = TriangularMF('much', 25, 45, 65)\n",
    "very_much = TrapezoidalMF('very_much', 50, 100, 300, 300)\n",
    "mfs_director_movies = [few, medium, much, very_much]\n",
    "director_movies = Input('director_movies', (0, 300), mfs_director_movies)"
   ]
  },
  {
   "cell_type": "code",
   "execution_count": 420,
   "metadata": {},
   "outputs": [],
   "source": [
    "# Number of Movies for Composer\n",
    "few = TrapezoidalMF('few', 0, 0, 10, 15)\n",
    "medium = TriangularMF('medium', 10, 20, 30)\n",
    "much = TriangularMF('much', 25, 45, 65)\n",
    "very_much = TrapezoidalMF('very_much', 50, 100, 300, 300)\n",
    "mfs_composer_movies = [few, medium, much, very_much]\n",
    "composer_movies = Input('composer_movies', (0, 300), mfs_composer_movies)"
   ]
  },
  {
   "cell_type": "code",
   "execution_count": 421,
   "metadata": {},
   "outputs": [],
   "source": [
    "# Number of Movies for Visual Effects superviser\n",
    "few = TrapezoidalMF('few', 0, 0, 10, 15)\n",
    "medium = TriangularMF('medium', 10, 20, 30)\n",
    "much = TriangularMF('much', 25, 45, 65)\n",
    "very_much = TrapezoidalMF('very_much', 50, 100, 300, 300)\n",
    "mfs_ve_movies = [few, medium, much, very_much]\n",
    "ve_movies = Input('ve_movies', (0, 15), mfs_ve_movies)"
   ]
  },
  {
   "cell_type": "code",
   "execution_count": 422,
   "metadata": {},
   "outputs": [
    {
     "data": {
      "text/plain": [
       "{'acceptable': 0.40000000000000036,\n",
       " 'bad': 0.06666666666666643,\n",
       " 'excellent': 0.0,\n",
       " 'good': 0.0,\n",
       " 'terrible': 0.0}"
      ]
     },
     "execution_count": 422,
     "metadata": {},
     "output_type": "execute_result"
    }
   ],
   "source": [
    "# Average movie rating\n",
    "terrible = TrapezoidalMF('terrible', 0, 0, 3, 4)\n",
    "bad = TriangularMF('bad', 3, 4.5, 6)\n",
    "acceptable = TriangularMF('acceptable', 5.5, 6.5, 7.5)\n",
    "good = TriangularMF('good', 7, 7.75, 8.5)\n",
    "excellent = TrapezoidalMF('excellent', 7.5, 8, 10.0, 10.0)\n",
    "mfs_average_movie_rating = [terrible, bad, acceptable, good, excellent]\n",
    "average_movie_rating = Input('average_movie_rating', (0.0, 10.0), mfs_average_movie_rating)\n",
    "\n",
    "average_movie_rating.calculate_memberships(5.9)"
   ]
  },
  {
   "cell_type": "code",
   "execution_count": 423,
   "metadata": {},
   "outputs": [
    {
     "name": "stdout",
     "output_type": "stream",
     "text": [
      "{'low': 0.8007374029168081, 'medium': 0.6065306597126334, 'high': 0.2605918210126892}\n",
      "{'low': 0.1353352832366127, 'medium': 0.9459594689067654, 'high': 0.33447270571756405}\n",
      "{'low': 0.0038659201394728076, 'medium': 0.9459594689067654, 'high': 0.41844910891303544}\n",
      "{'low': 2.233631436203166e-10, 'medium': 0.1353352832366127, 'high': 0.6549476304858832}\n",
      "{'low': 1.9287498479639178e-22, 'medium': 0.001203859994828203, 'high': 0.8735411859788502}\n"
     ]
    }
   ],
   "source": [
    "# Budget\n",
    "low = GaussianMF('low', 0, 30)\n",
    "medium = GaussianMF('medium', 80, 60)\n",
    "high = GaussianMF('high', 430, 250)\n",
    "mfs_budget = [low, medium, high]\n",
    "budget = Input('average_movie_rating', (0, 430), mfs_budget)\n",
    "\n",
    "print(budget.calculate_memberships(20))\n",
    "print(budget.calculate_memberships(60))\n",
    "print(budget.calculate_memberships(100))\n",
    "print(budget.calculate_memberships(200))\n",
    "print(budget.calculate_memberships(300))"
   ]
  },
  {
   "cell_type": "code",
   "execution_count": 424,
   "metadata": {},
   "outputs": [],
   "source": [
    "# Actor\n",
    "terrible = TrapezoidalMF('terrible', 0, 0, 3, 4)\n",
    "bad = TriangularMF('bad', 3, 4.5, 6)\n",
    "acceptable = TriangularMF('acceptable', 5.5, 6.5, 7.5)\n",
    "good = TriangularMF('good', 7, 7.75, 8.5)\n",
    "excellent = TrapezoidalMF('excellent', 7.5, 8, 10.0, 10.0)\n",
    "mfs_actor= [terrible, bad, acceptable, good, excellent]\n",
    "actor_output = Output('actor_output', (0.0, 10.0), mfs_actor)\n",
    "actor_input = Input('actor_input', (0.0, 10.0), mfs_actor)\n"
   ]
  },
  {
   "cell_type": "code",
   "execution_count": 425,
   "metadata": {},
   "outputs": [],
   "source": [
    "# Director\n",
    "terrible = TrapezoidalMF('terrible', 0, 0, 3, 4)\n",
    "bad = TriangularMF('bad', 3, 4.5, 6)\n",
    "acceptable = TriangularMF('acceptable', 5.5, 6.5, 7.5)\n",
    "good = TriangularMF('good', 7, 7.75, 8.5)\n",
    "excellent = TrapezoidalMF('excellent', 7.5, 8, 10.0, 10.0)\n",
    "mfs_director= [terrible, bad, acceptable, good, excellent]\n",
    "director_output = Output('director_output', (0.0, 10.0), mfs_director)\n",
    "director_input = Input('director_input', (0.0, 10.0), mfs_director)"
   ]
  },
  {
   "cell_type": "code",
   "execution_count": 426,
   "metadata": {},
   "outputs": [],
   "source": [
    "# ve\n",
    "terrible = TrapezoidalMF('terrible', 0, 0, 3, 4)\n",
    "bad = TriangularMF('bad', 3, 4.5, 6)\n",
    "acceptable = TriangularMF('acceptable', 5.5, 6.5, 7.5)\n",
    "good = TriangularMF('good', 7, 7.75, 8.5)\n",
    "excellent = TrapezoidalMF('excellent', 7.5, 8, 10.0, 10.0)\n",
    "mfs_ve = [terrible, bad, acceptable, good, excellent]\n",
    "ve_output = Output('ve_output', (0.0, 10.0), mfs_ve)\n",
    "ve_input = Input('ve_input', (0.0, 10.0), mfs_ve)"
   ]
  },
  {
   "cell_type": "code",
   "execution_count": 427,
   "metadata": {},
   "outputs": [],
   "source": [
    "# composer\n",
    "terrible = TrapezoidalMF('terrible', 0, 0, 3, 4)\n",
    "bad = TriangularMF('bad', 3, 4.5, 6)\n",
    "acceptable = TriangularMF('acceptable', 5.5, 6.5, 7.5)\n",
    "good = TriangularMF('good', 7, 7.75, 8.5)\n",
    "excellent = TrapezoidalMF('excellent', 7.5, 8, 10.0, 10.0)\n",
    "mfs_composer = [terrible, bad, acceptable, good, excellent]\n",
    "composer_output = Output('composer_output', (0.0, 10.0), mfs_composer)\n",
    "composer_input = Input('composer_input', (0.0, 10.0), mfs_composer)"
   ]
  },
  {
   "cell_type": "code",
   "execution_count": 428,
   "metadata": {},
   "outputs": [],
   "source": [
    "# Performing\n",
    "terrible = TrapezoidalMF('terrible', 0, 0, 3, 4)\n",
    "bad = TriangularMF('bad', 3, 4.5, 6)\n",
    "acceptable = TriangularMF('acceptable', 5.5, 6.5, 7.5)\n",
    "good = TriangularMF('good', 7, 7.75, 8.5)\n",
    "excellent = TrapezoidalMF('excellent', 7.5, 8, 10.0, 10.0)\n",
    "mfs_performing= [terrible, bad, acceptable, good, excellent]\n",
    "performing_output = Output('performing_output', (0.0, 10.0), mfs_performing)\n",
    "performing_input = Input('performing_input', (0.0, 10.0), mfs_performing)#\n"
   ]
  },
  {
   "cell_type": "code",
   "execution_count": 429,
   "metadata": {},
   "outputs": [],
   "source": [
    "# Creating\n",
    "terrible = TrapezoidalMF('terrible', 0, 0, 3, 4)\n",
    "bad = TriangularMF('bad', 3, 4.5, 6)\n",
    "acceptable = TriangularMF('acceptable', 5.5, 6.5, 7.5)\n",
    "good = TriangularMF('good', 7, 7.75, 8.5)\n",
    "excellent = TrapezoidalMF('excellent', 7.5, 8, 10.0, 10.0)\n",
    "mfs_creating= [terrible, bad, acceptable, good, excellent]\n",
    "creating_output = Output('creating_output', (0.0, 10.0), mfs_creating)\n",
    "creating_input = Input('creating_input', (0.0, 10.0), mfs_creating)"
   ]
  },
  {
   "cell_type": "code",
   "execution_count": 430,
   "metadata": {},
   "outputs": [],
   "source": [
    "# Crew\n",
    "terrible = TrapezoidalMF('terrible', 0, 0, 3, 4)\n",
    "bad = TriangularMF('bad', 3, 4.5, 6)\n",
    "acceptable = TriangularMF('acceptable', 5.5, 6.5, 7.5)\n",
    "good = TriangularMF('good', 7, 7.75, 8.5)\n",
    "excellent = TrapezoidalMF('excellent', 7.5, 8, 10.0, 10.0)\n",
    "mfs_crew= [terrible, bad, acceptable, good, excellent]\n",
    "crew_output = Output('crew_output', (0.0, 10.0), mfs_crew)\n",
    "crew_input = Input('crew_input', (0.0, 10.0), mfs_crew)"
   ]
  },
  {
   "cell_type": "code",
   "execution_count": 431,
   "metadata": {},
   "outputs": [],
   "source": [
    "# Rating\n",
    "terrible = TrapezoidalMF('terrible', 0, 0, 3, 4)\n",
    "bad = TriangularMF('bad', 3, 4.5, 6)\n",
    "acceptable = TriangularMF('acceptable', 5.5, 6.5, 7.5)\n",
    "good = TriangularMF('good', 7, 7.75, 8.5)\n",
    "excellent = TrapezoidalMF('excellent', 7.5, 8, 10.0, 10.0)\n",
    "mfs_rating= [terrible, bad, acceptable, good, excellent]\n",
    "rating = Output('rating_output', (0.0, 10.0), mfs_rating)"
   ]
  },
  {
   "cell_type": "markdown",
   "metadata": {},
   "source": [
    "The Rule-class"
   ]
  },
  {
   "cell_type": "code",
   "execution_count": 432,
   "metadata": {},
   "outputs": [],
   "source": [
    "class Rule:\n",
    "    \"\"\"Fuzzy rule class, initialized with an antecedent (list of strings),\n",
    "    operator (string) and consequent (string).\"\"\"\n",
    "    def __init__(self, n, antecedent, operator, consequent):\n",
    "        self.number = n\n",
    "        self.antecedent = antecedent\n",
    "        self.operator = operator\n",
    "        self.consequent = consequent\n",
    "        self.firing_strength = 0\n",
    "\n",
    "    def calculate_firing_strength(self, datapoint, inputs):\n",
    "        fs = []\n",
    "        for index, variable in enumerate(inputs):\n",
    "            #            print(index)\n",
    "            memb_dict = (variable.calculate_memberships(datapoint[index]))\n",
    "            fs.append(memb_dict[self.antecedent[index]])\n",
    "        if self.operator == 'and':\n",
    "            self.firing_strength = min(fs)\n",
    "        if self.operator == 'or':    \n",
    "            self.firing_strength = max(fs)\n",
    "        return self.firing_strength"
   ]
  },
  {
   "cell_type": "markdown",
   "metadata": {},
   "source": [
    "Hier moeten we Rules gaan definieren"
   ]
  },
  {
   "cell_type": "code",
   "execution_count": 433,
   "metadata": {},
   "outputs": [],
   "source": [
    "from collections import Counter\n",
    "\n",
    "class Rulebase:\n",
    "    \"\"\"The fuzzy rulebase collects all rules for the FLS, can\n",
    "    calculate the firing strengths of its rules.\"\"\"\n",
    "    def __init__(self, rules):\n",
    "        self.rules = rules\n",
    "\n",
    "    def calculate_firing_strengths(self, datapoint, inputs):\n",
    "        result = Counter()\n",
    "        for i, rule in enumerate(self.rules):\n",
    "            fs = rule.calculate_firing_strength(datapoint, inputs)\n",
    "            consequent = rule.consequent\n",
    "            if fs > result[consequent]:\n",
    "                result[consequent] = fs\n",
    "        return result"
   ]
  },
  {
   "cell_type": "code",
   "execution_count": 434,
   "metadata": {},
   "outputs": [
    {
     "name": "stdout",
     "output_type": "stream",
     "text": [
      "Counter({'acceptable': 0.6666666666666666})\n"
     ]
    }
   ],
   "source": [
    "#System1: Inferencing actor-quality\n",
    "rule1 = Rule(1, [\"terrible\", \"few\"], \"and\", \"terrible\")\n",
    "rule2 = Rule(1, [\"terrible\", \"medium\"], \"and\", \"terrible\")\n",
    "rule3 = Rule(1, [\"terrible\", \"much\"], \"and\", \"terrible\")\n",
    "rule4 = Rule(1, [\"terrible\", \"very_much\"], \"and\", \"bad\")\n",
    "\n",
    "rule5 = Rule(1, [\"bad\", \"few\"], \"and\", \"terrible\")\n",
    "rule6 = Rule(1, [\"bad\", \"medium\"], \"and\", \"bad\")\n",
    "rule7 = Rule(1, [\"bad\", \"much\"], \"and\", \"bad\")\n",
    "rule8 = Rule(1, [\"bad\", \"very_much\"], \"and\", \"acceptable\")\n",
    "\n",
    "rule9 = Rule(1, [\"acceptable\", \"few\"], \"and\", \"bad\")\n",
    "rule10 = Rule(1, [\"acceptable\", \"medium\"], \"and\", \"acceptable\")\n",
    "rule11 = Rule(1, [\"acceptable\", \"much\"], \"and\", \"acceptable\")\n",
    "rule12 = Rule(1, [\"acceptable\", \"very_much\"], \"and\", \"good\")\n",
    "\n",
    "rule13 = Rule(1, [\"good\", \"few\"], \"and\", \"acceptable\")\n",
    "rule14 = Rule(1, [\"good\", \"medium\"], \"and\", \"good\")\n",
    "rule15 = Rule(1, [\"good\", \"much\"], \"and\", \"good\")\n",
    "rule16 = Rule(1, [\"good\", \"very_much\"], \"and\", \"excellent\")\n",
    "\n",
    "rule17 = Rule(1, [\"excellent\", \"few\"], \"and\", \"good\")\n",
    "rule18 = Rule(1, [\"excellent\", \"medium\"], \"and\", \"excellent\")\n",
    "rule19 = Rule(1, [\"excellent\", \"much\"], \"and\", \"excellent\")\n",
    "rule20 = Rule(1, [\"excellent\", \"very_much\"], \"and\", \"excellent\")\n",
    "\n",
    "actor_rules = [rule1, rule2, rule3, rule4, rule5, rule6, rule7, rule8, rule9, rule10, rule11, rule12, rule13, rule14, rule15, rule16, rule17, rule18, rule19, rule20]\n",
    "\n",
    "#Same as director-rulebase and ve-rulebase\n",
    "actor_rulebase = Rulebase(actor_rules)\n",
    "print(actor_rulebase.calculate_firing_strengths([7.5, 8], [average_movie_rating, actor_movies]))"
   ]
  },
  {
   "cell_type": "code",
   "execution_count": 435,
   "metadata": {},
   "outputs": [
    {
     "name": "stdout",
     "output_type": "stream",
     "text": [
      "Counter({'good': 0.6666666666666666, 'excellent': 0.6666666666666666})\n"
     ]
    }
   ],
   "source": [
    "# Rulebase that takes actors and ve as input and (PERFORMING) as output\n",
    "# Actor weighs more than VE at the moment\n",
    "r1 = Rule(1, [\"terrible\", \"terrible\"], \"and\", \"terrible\")\n",
    "r2 = Rule(1, [\"terrible\", \"bad\"], \"and\", \"terrible\")\n",
    "r3 = Rule(1, [\"terrible\", \"acceptable\"], \"and\", \"terrible\")\n",
    "r4 = Rule(1, [\"terrible\", \"good\"], \"and\", \"bad\")\n",
    "r5 = Rule(1, [\"terrible\", \"excellent\"], \"and\", \"bad\")\n",
    "\n",
    "r6 = Rule(1, [\"bad\", \"terrible\"], \"and\", \"terrible\")\n",
    "r7 = Rule(1, [\"bad\", \"bad\"], \"and\", \"bad\")\n",
    "r8 = Rule(1, [\"bad\", \"acceptable\"], \"and\", \"bad\")\n",
    "r9 = Rule(1, [\"bad\", \"good\"], \"and\", \"bad\")\n",
    "r10 = Rule(1, [\"bad\", \"excellent\"], \"and\", \"acceptable\")\n",
    "\n",
    "r11 = Rule(1, [\"acceptable\", \"terrible\"], \"and\", \"bad\")\n",
    "r12 = Rule(1, [\"acceptable\", \"bad\"], \"and\", \"acceptable\")\n",
    "r13 = Rule(1, [\"acceptable\", \"acceptable\"], \"and\", \"acceptable\")\n",
    "r14 = Rule(1, [\"acceptable\", \"good\"], \"and\", \"acceptable\")\n",
    "r15 = Rule(1, [\"acceptable\", \"excellent\"], \"and\", \"good\")\n",
    "\n",
    "r16 = Rule(1, [\"good\", \"terrible\"], \"and\", \"acceptable\")\n",
    "r17 = Rule(1, [\"good\", \"bad\"], \"and\", \"good\")\n",
    "r18 = Rule(1, [\"good\", \"acceptable\"], \"and\", \"good\")\n",
    "r19 = Rule(1, [\"good\", \"good\"], \"and\", \"good\")\n",
    "r20 = Rule(1, [\"good\", \"excellent\"], \"and\", \"excellent\")\n",
    "\n",
    "r21 = Rule(1, [\"excellent\", \"terrible\"], \"and\", \"good\")\n",
    "r22 = Rule(1, [\"excellent\", \"bad\"], \"and\", \"good\")\n",
    "r23 = Rule(1, [\"excellent\", \"acceptable\"], \"and\", \"excellent\")\n",
    "r24 = Rule(1, [\"excellent\", \"good\"], \"and\", \"excellent\")\n",
    "r25 = Rule(1, [\"excellent\", \"excellent\"], \"and\", \"excellent\")\n",
    "\n",
    "performing_rules = [r1, r2, r3, r4, r5, r6, r7, r8, r9, r10, r11, r12, r13, r14, r15, r16, r17, r18, r19, r20, r21, r22, r23, r24, r25]\n",
    "\n",
    "#Can for now also be used as creating rulebase. But we might want to weigh the variables differently there.\n",
    "performing_rulebase = Rulebase(performing_rules)\n",
    "print(performing_rulebase.calculate_firing_strengths([7.5, 8], [actor_input, ve_input]))\n"
   ]
  },
  {
   "cell_type": "code",
   "execution_count": 436,
   "metadata": {},
   "outputs": [],
   "source": [
    "# Rulebase that takes performing and creating as input and gives crew as output (equal weight)\n",
    "r1 = Rule(1, [\"terrible\", \"terrible\"], \"and\", \"terrible\")\n",
    "r2 = Rule(1, [\"terrible\", \"bad\"], \"and\", \"terrible\")\n",
    "r3 = Rule(1, [\"terrible\", \"acceptable\"], \"and\", \"bad\")\n",
    "r4 = Rule(1, [\"terrible\", \"good\"], \"and\", \"bad\")\n",
    "r5 = Rule(1, [\"terrible\", \"excellent\"], \"and\", \"acceptable\")\n",
    "\n",
    "r6 = Rule(1, [\"bad\", \"terrible\"], \"and\", \"terrible\")\n",
    "r7 = Rule(1, [\"bad\", \"bad\"], \"and\", \"bad\")\n",
    "r8 = Rule(1, [\"bad\", \"acceptable\"], \"and\", \"acceptable\")\n",
    "r9 = Rule(1, [\"bad\", \"good\"], \"and\", \"acceptable\")\n",
    "r10 = Rule(1, [\"bad\", \"excellent\"], \"and\", \"good\")\n",
    "\n",
    "r11 = Rule(1, [\"acceptable\", \"terrible\"], \"and\", \"bad\")\n",
    "r12 = Rule(1, [\"acceptable\", \"bad\"], \"and\", \"acceptable\")\n",
    "r13 = Rule(1, [\"acceptable\", \"acceptable\"], \"and\", \"acceptable\")\n",
    "r14 = Rule(1, [\"acceptable\", \"good\"], \"and\", \"good\")\n",
    "r15 = Rule(1, [\"acceptable\", \"excellent\"], \"and\", \"good\")\n",
    "\n",
    "r16 = Rule(1, [\"good\", \"terrible\"], \"and\", \"bad\")\n",
    "r17 = Rule(1, [\"good\", \"bad\"], \"and\", \"acceptable\")\n",
    "r18 = Rule(1, [\"good\", \"acceptable\"], \"and\", \"good\")\n",
    "r19 = Rule(1, [\"good\", \"good\"], \"and\", \"good\")\n",
    "r20 = Rule(1, [\"good\", \"excellent\"], \"and\", \"excellent\")\n",
    "\n",
    "r21 = Rule(1, [\"excellent\", \"terrible\"], \"and\", \"acceptable\")\n",
    "r22 = Rule(1, [\"excellent\", \"bad\"], \"and\", \"good\")\n",
    "r23 = Rule(1, [\"excellent\", \"acceptable\"], \"and\", \"good\")\n",
    "r24 = Rule(1, [\"excellent\", \"good\"], \"and\", \"excellent\")\n",
    "r25 = Rule(1, [\"excellent\", \"excellent\"], \"and\", \"excellent\")\n",
    "crew_rules = [r1, r2, r3, r4, r5, r6, r7, r8, r9, r10, r11, r12, r13, r14, r15, r16, r17, r18, r19, r20, r21, r22, r23, r24, r25]\n",
    "crew_rulebase = Rulebase(crew_rules)"
   ]
  },
  {
   "cell_type": "code",
   "execution_count": 437,
   "metadata": {},
   "outputs": [],
   "source": [
    "# Rulebase that takes crew and budget as input and gives rating as output\n",
    "r1 = Rule(1, [\"terrible\", \"low\"], \"and\", \"terrible\")\n",
    "r2 = Rule(1, [\"terrible\", \"medium\"], \"and\", \"bad\")\n",
    "r3 = Rule(1, [\"terrible\", \"high\"], \"and\", \"bad\")\n",
    "\n",
    "r4 = Rule(1, [\"bad\", \"low\"], \"and\", \"bad\")\n",
    "r5 = Rule(1, [\"bad\", \"medium\"], \"and\", \"acceptable\")\n",
    "r6 = Rule(1, [\"bad\", \"high\"], \"and\", \"acceptable\")\n",
    "\n",
    "r7 = Rule(1, [\"acceptable\", \"low\"], \"and\", \"acceptable\")\n",
    "r8 = Rule(1, [\"acceptable\", \"medium\"], \"and\", \"acceptable\")\n",
    "r9 = Rule(1, [\"acceptable\", \"high\"], \"and\", \"good\")\n",
    "\n",
    "r10 = Rule(1, [\"good\", \"low\"], \"and\", \"acceptable\")\n",
    "r11 = Rule(1, [\"good\", \"medium\"], \"and\", \"good\")\n",
    "r12 = Rule(1, [\"good\", \"high\"], \"and\", \"excellent\")\n",
    "\n",
    "r13 = Rule(1, [\"excellent\", \"low\"], \"and\", \"good\")\n",
    "r14 = Rule(1, [\"excellent\", \"medium\"], \"and\", \"excellent\")\n",
    "r15 = Rule(1, [\"excellent\", \"high\"], \"and\", \"excellent\")\n",
    "rating_rules = [r1, r2, r3, r4, r5, r6, r7, r8, r9, r10, r11, r12, r13, r14, r15]\n",
    "rating_rulebase = Rulebase(rating_rules)"
   ]
  },
  {
   "cell_type": "markdown",
   "metadata": {},
   "source": [
    "The Rule-base Class"
   ]
  },
  {
   "cell_type": "code",
   "execution_count": null,
   "metadata": {},
   "outputs": [],
   "source": []
  },
  {
   "cell_type": "markdown",
   "metadata": {},
   "source": [
    "The inference-algorithm. Support nu alleen nog Mandami-inference met 'smallest of max' en 'largest of max' als defuzzification."
   ]
  },
  {
   "cell_type": "code",
   "execution_count": 438,
   "metadata": {},
   "outputs": [],
   "source": [
    "class Reasoner:\n",
    "    def __init__(self, rulebase, inputs, output, n_points, defuzzification):\n",
    "        self.rulebase = rulebase\n",
    "        self.inputs = inputs\n",
    "        self.output = output\n",
    "        self.discretize = n_points\n",
    "        self.defuzzification = defuzzification\n",
    "\n",
    "    def inference(self, datapoint):\n",
    "        # 1. Calculate the highest firing strength found in the rules per \n",
    "        # membership function of the output variable\n",
    "        # looks like: {\"low\":0.5, \"medium\":0.25, \"high\":0}        \n",
    "        firing_strengths = (self.rulebase.calculate_firing_strengths(datapoint, self.inputs))\n",
    "        #print('firing', firing_strengths)\n",
    "\n",
    "        # 2. Aggragate and discretize\n",
    "        # looks like: [(0.0, 1), (1.2437810945273631, 1), (2.4875621890547261, 1), (3.7313432835820892, 1), ...]\n",
    "        input_value_pairs = self.aggregate(firing_strengths)\n",
    "        \n",
    "        # 3. Defuzzify\n",
    "        # looks like a scalar\n",
    "        crisp_output = self.defuzzify(input_value_pairs)\n",
    "        return crisp_output\n",
    "\n",
    "    def aggregate(self, firing_strengths):\n",
    "        \n",
    "        # First find where the aggrageted area starts and ends\n",
    "        (start, end) = (-1, -1)\n",
    "        for fs in firing_strengths:\n",
    "            if firing_strengths[fs] > 0.0:\n",
    "                mf = self.output.get_mf_by_name(fs)\n",
    "                (s, e) = mf.get_range()\n",
    "                if start == -1 or s <= start:\n",
    "                    start = s\n",
    "                if end == -1 or end <= e:\n",
    "                    end = e\n",
    "        #print(start, end)\n",
    "        # Second discretize this area and aggragate      \n",
    "        # Your code here\n",
    "        step_size = (end-start)/(float(self.discretize) - 1.0)\n",
    "        input_value_pairs = []\n",
    "        while start <= end:\n",
    "            memb = self.memb_of_agg(firing_strengths, start)\n",
    "            input_value_pairs.append((start, memb))\n",
    "            start += step_size\n",
    "        return input_value_pairs\n",
    "        \n",
    "\n",
    "    def memb_of_agg(self, firing_strengths, x):\n",
    "        strength = 0\n",
    "        for fs in firing_strengths:\n",
    "            mf = self.output.get_mf_by_name(fs)\n",
    "            m = mf.calculate_membership(x)\n",
    "            m = min(m, firing_strengths[fs])\n",
    "            if m > strength:\n",
    "                strength = m\n",
    "        return strength\n",
    "\n",
    "    def defuzzify(self, input_value_pairs):\n",
    "        crisp = -1\n",
    "        maximum = 0\n",
    "        if self.defuzzification == 'som':\n",
    "            for (i, v) in input_value_pairs:\n",
    "                if v > maximum or crisp == -1:\n",
    "                    crisp = i\n",
    "                    maximum = v\n",
    "        if self.defuzzification =='lom':\n",
    "            for (i, v) in input_value_pairs:\n",
    "                if v >= maximum or crisp == -1:\n",
    "                    crisp = i\n",
    "                    maximum = v\n",
    "        if self.defuzzification == 'centroid':\n",
    "            centroid = 0\n",
    "            total_value = 0\n",
    "            for i, v in input_value_pairs:\n",
    "                centroid += i*v\n",
    "                total_value += v\n",
    "            crisp = float(centroid)/float(total_value)      \n",
    "        return crisp\n",
    "    \n",
    "    "
   ]
  },
  {
   "cell_type": "code",
   "execution_count": 439,
   "metadata": {},
   "outputs": [],
   "source": [
    "actor_thinker = Reasoner(actor_rulebase, [average_movie_rating, actor_movies], actor_output, 201, \"centroid\")\n",
    "ve_thinker = Reasoner(actor_rulebase, [average_movie_rating, ve_movies], ve_output, 201, \"centroid\")\n",
    "director_thinker = Reasoner(actor_rulebase, [average_movie_rating, director_movies], director_output, 201, \"centroid\")\n",
    "composer_thinker = Reasoner(actor_rulebase, [average_movie_rating, composer_movies], composer_output, 201, \"centroid\")\n",
    "\n",
    "creating_thinker = Reasoner(performing_rulebase, [actor_input, ve_input], creating_output, 201, \"centroid\")\n",
    "performing_thinker = Reasoner(performing_rulebase, [composer_input, director_input], performing_output, 201, \"centroid\")\n",
    "\n",
    "crew_thinker = Reasoner(crew_rulebase, [creating_input, performing_input], crew_output, 201, \"centroid\")\n",
    "\n",
    "rating_thinker = Reasoner(rating_rulebase, [crew_input, budget], rating, 201, \"centroid\")"
   ]
  },
  {
   "cell_type": "code",
   "execution_count": 440,
   "metadata": {},
   "outputs": [
    {
     "name": "stdout",
     "output_type": "stream",
     "text": [
      "Crew components\n",
      "6.500000000000004\n",
      "4.500000000000005\n",
      "1.8333384104879467\n",
      "1.7568660968660972\n",
      "Creating and directing\n",
      "6.499999999999997\n",
      "1.7568660968660972\n",
      "Crew\n",
      "4.500000000000003\n",
      "rating\n",
      "6.499979136084323\n"
     ]
    }
   ],
   "source": [
    "#EXAMPLE\n",
    "#actor = actor_rulebase.calculate_firing_strengths([7.5, 8], [average_movie_rating, actor_movies])\n",
    "actor_score = actor_thinker.inference([7.5, 8])\n",
    "ve_score = ve_thinker.inference([6, 5])\n",
    "director_score = director_thinker.inference([5, 10])\n",
    "composer_score = composer_thinker.inference([2, 3])\n",
    "\n",
    "creating_score = creating_thinker.inference([actor_score, ve_score])\n",
    "performing_score = performing_thinker.inference([director_score, composer_score])\n",
    "\n",
    "crew_score = crew_thinker.inference([creating_score, performing_score])\n",
    "rating_score = rating_thinker.inference([crew_score, 200])\n",
    "\n",
    "print(\"Crew components\")\n",
    "print(actor_score)\n",
    "print(ve_score)\n",
    "print(director_score)\n",
    "print(composer_score)\n",
    "\n",
    "print(\"Creating and directing\")\n",
    "print(creating_score)\n",
    "print(performing_score)\n",
    "\n",
    "print(\"Crew\")\n",
    "print(crew_score)\n",
    "print(\"rating\")\n",
    "print(rating_score)"
   ]
  },
  {
   "cell_type": "code",
   "execution_count": 441,
   "metadata": {},
   "outputs": [],
   "source": [
    "# Now we import our database class:\n",
    "import datainteraction as d\n",
    "data = d.Datainteraction()"
   ]
  },
  {
   "cell_type": "code",
   "execution_count": 442,
   "metadata": {},
   "outputs": [
    {
     "data": {
      "text/plain": [
       "0"
      ]
     },
     "execution_count": 442,
     "metadata": {},
     "output_type": "execute_result"
    }
   ],
   "source": [
    "data.get_rating('Harry(2018)')"
   ]
  },
  {
   "cell_type": "code",
   "execution_count": 443,
   "metadata": {},
   "outputs": [],
   "source": [
    "def rate_movie(moviename, data, printing=False, filter_missing=False, top_select=0):\n",
    "    #EXAMPLE\n",
    "    #actor = actor_rulebase.calculate_firing_strengths([7.5, 8], [average_movie_rating, actor_movies])\n",
    "    actorvalues = data.actor_values(moviename, top_select)\n",
    "    vevalues = data.special_values(moviename, top_select)\n",
    "    directorvalues = data.director_values(moviename, top_select)\n",
    "    composervalues = data.composer_values(moviename, top_select)\n",
    "    budget = data.get_budget(moviename)\n",
    "    if filter_missing:\n",
    "        if -1 in actorvalues:\n",
    "            actorvalues = (5.0, 18)\n",
    "        if -1 in vevalues:\n",
    "            vevalues = (5.0, 20)\n",
    "        if -1 in directorvalues:\n",
    "            directorvalues = (5.0, 20)\n",
    "        if -1 in composervalues:\n",
    "            composervalues = (5.0, 10)\n",
    "        if budget == -1:\n",
    "        # low/medium\n",
    "            budget = 70\n",
    "    if printing:\n",
    "        print('input values for ' + moviename + ':')\n",
    "        print('composer values:', composervalues)\n",
    "        print('moviebudget:', budget)\n",
    "        print('directorvalues:', directorvalues)\n",
    "        print('visual studio value:', vevalues)\n",
    "        print('Actorvalues', actorvalues)\n",
    "        print('')\n",
    "        print('calculations:')\n",
    "    actor_score = actor_thinker.inference(actorvalues)\n",
    "    ve_score = ve_thinker.inference(vevalues)\n",
    "    director_score = director_thinker.inference(directorvalues)\n",
    "    composer_score = composer_thinker.inference(composervalues)\n",
    "\n",
    "    creating_score = creating_thinker.inference([actor_score, ve_score])\n",
    "    performing_score = performing_thinker.inference([director_score, composer_score])\n",
    "\n",
    "    crew_score = crew_thinker.inference([creating_score, performing_score])\n",
    "    rating_score = rating_thinker.inference([crew_score, budget])\n",
    "    if printing:\n",
    "        print(\"Crew components\")\n",
    "        print(actor_score)\n",
    "        print(ve_score)\n",
    "        print(director_score)\n",
    "        print(composer_score)\n",
    "\n",
    "        print(\"Creating and directing\")\n",
    "        print(creating_score)\n",
    "        print(performing_score)\n",
    "\n",
    "        print(\"Crew\")\n",
    "        print(crew_score)\n",
    "        print(\"\\nResulting rating:\")\n",
    "        print(rating_score)\n",
    "    return(rating_score)"
   ]
  },
  {
   "cell_type": "code",
   "execution_count": 444,
   "metadata": {},
   "outputs": [
    {
     "name": "stdout",
     "output_type": "stream",
     "text": [
      "All movies in validation set:\n",
      " [\"Pirates of the Caribbean: At World's End\", 'Avengers: Age of Ultron', 'The Lone Ranger', 'Man of Steel', 'The Avengers', 'Pirates of the Caribbean: On Stranger Tides', 'Robin Hood', 'Jurassic World', 'Iron Man 3', 'Alice in Wonderland', 'Transformers: Revenge of the Fallen', 'Transformers: Age of Extinction', 'TRON: Legacy', 'Cars 2', 'Indiana Jones and the Kingdom of the Crystal Skull', 'A Christmas Carol', 'Jupiter Ascending', 'The Legend of Tarzan', 'Monsters vs Aliens', 'Edge of Tomorrow', 'G.I. Joe: The Rise of Cobra', 'Shrek Forever After', 'The Polar Express', 'Terminator 3: Rise of the Machines', 'Inception', 'Shin Godzilla', 'The Hobbit: An Unexpected Journey', \"The Sorcerer's Apprentice\", 'Terminator Genisys', 'The Chronicles of Narnia: The Voyage of the Dawn Treader', 'Charlie and the Chocolate Factory', 'Night at the Museum: Battle of the Smithsonian', 'The Last Airbender', 'Mission: Impossible III', 'Mr. Peabody & Sherman', 'Troy', 'Beowulf', 'Mission: Impossible - Ghost Protocol', 'The Last Samurai', 'Star Trek', 'Gods of Egypt', 'G.I. Joe: Retaliation', 'Happy Feet Two', 'War of the Worlds', 'Salt', 'R.I.P.D.', 'The Hunger Games: Mockingjay - Part 1', 'Rio 2', 'Fast Five', 'Ghost Rider', 'Stuart Little 2', 'Speed Racer', 'How Do You Know', 'Knight and Day', 'The Croods', \"Dante's Peak\", 'The Smurfs', 'Around the World in 80 Days', 'Gone in Sixty Seconds', 'True Lies', 'Eraser', 'The Hunchback of Notre Dame', \"The Emperor's New Groove\", 'Eragon', 'Epic', 'Hercules', 'Treasure Planet', 'Point Break', 'The Adventures of Pluto Nash', 'Sex and the City 2', 'The Road to El Dorado', 'The Lord of the Rings: The Return of the King', 'Jurassic Park III', 'A Good Day to Die Hard', 'Percy Jackson & the Olympians: The Lightning Thief', 'Men in Black', 'Unstoppable', 'Rush Hour 2', 'Ice Age: Dawn of the Dinosaurs', \"Charlie's Angels\", 'Percy Jackson: Sea of Monsters', 'Now You See Me 2', 'Mission to Mars', 'Rio', \"The Devil's Own\", 'Conan the Barbarian', 'Air Force One', 'Hotel Transylvania', 'The Fast and the Furious: Tokyo Drift', 'Zodiac', 'Over the Hedge', \"Charlotte's Web\", 'Shutter Island', 'Cold Mountain', 'Six Days Seven Nights', 'The Manchurian Candidate', 'Hotel Transylvania 2', 'The Legend of Zorro', 'What Dreams May Come', 'Thirteen Days', 'Daylight', 'Walking With Dinosaurs', 'Battlefield Earth', 'Looney Tunes: Back in Action', 'Timeline', 'The Little Prince', 'The Invasion', 'Madagascar', 'Children of Men', 'X-Men', 'Hairspray', 'Hotel for Dogs', 'Vertical Limit', 'Tears of the Sun', 'Killers', 'Anna and the King', 'Soldier', 'Carriers', 'Snake Eyes', 'Funny People', 'The SpongeBob Movie: Sponge Out of Water', 'Inglourious Basterds', 'Hook', 'AVP: Alien vs. Predator', 'Big Fish', 'The Dilemma', 'Bad Company', 'Rock of Ages', \"Hart's War\", 'Rollerball', 'Agora', 'The Finest Hours', 'The Last Legion', 'Ice Age', 'Dreamcatcher', 'Apollo 13', 'The Santa Clause 2', 'Step Brothers', 'Cliffhanger', 'This Means War', 'Zathura: A Space Adventure', 'Hudson Hawk', 'Austin Powers in Goldmember', 'The Love Guru', '3000 Miles to Graceland', 'The Hateful Eight', \"The General's Daughter\", 'Antz', 'Cheaper by the Dozen 2', 'Maze Runner: The Scorch Trials', 'The Family Man', 'The Scorpion King', 'Contagion', 'Man on Fire', 'The Tuxedo', 'Under Siege 2: Dark Territory', 'Jack Ryan: Shadow Recruit', 'Shooter', 'The Boxtrolls', 'Duplicity', 'The Sentinel', 'Star Trek: Nemesis', 'Righteous Kill', 'Mercury Rising', 'The Legend of Bagger Vance', 'Almost Famous', 'Priest', 'Mortdecai', 'Just Like Heaven', 'The Pacifier', 'The Nutty Professor', \"Mr. Popper's Penguins\", 'The Forbidden Kingdom', 'Evita', 'The Pirates! In an Adventure with Scientists!', 'Elizabeth: The Golden Age', 'Gods and Generals', 'Lolita', 'Blade II', 'Flags of Our Fathers', 'Lucky You', 'Mamma Mia!', 'From Paris with Love', 'Me, Myself & Irene', 'Ted', '22 Jump Street', 'Stepmom', 'G.I. Jane', 'The Negotiator', 'Into the Storm', 'Beverly Hills Cop III', 'Gremlins 2: The New Batch', 'On Deadly Ground', 'Raising Helen', 'For Love of the Game', 'The International', 'The Life Aquatic with Steve Zissou', 'Dream House', \"Baby's Day Out\", 'Domino', 'Jade', 'What Planet Are You From?', 'Traffic', 'The Tooth Fairy', 'The Cotton Club', 'Mary Reilly', 'Star Trek: First Contact', 'The Flintstones', 'Scary Movie 3', 'The Princess Diaries 2: Royal Engagement', 'The Bucket List', 'Prisoners', \"A Bug's Life\", 'Tin Cup', 'The River Wild', 'Cellular', 'Bangkok Dangerous', 'Foodfight!', 'Argo', 'Sleepers', 'Finding Forrester', 'Boomerang', 'The Mothman Prophecies', 'Brüno', 'Red Riding Hood', 'One for the Money', \"The Warrior's Way\", 'Why I Did (Not) Eat My Father', 'Back to the Future Part II', 'Julie & Julia', 'Dumb and Dumber To', 'The Intern', 'Ride Along 2', \"Big Momma's House 2\", 'The Final Destination', 'Get Him to the Greek', 'Escape from Planet Earth', 'The Rainmaker', 'The Guilt Trip', 'Final Destination 5', 'Mickey Blue Eyes', 'Rent', 'Sweet November', 'Get Carter', 'The Impossible', 'Ishtar', 'Fantastic Mr. Fox', 'Alfie', 'Big Miracle', \"Cirque du Freak: The Vampire's Assistant\", 'The Gunman', 'The Hudsucker Proxy', \"The Time Traveler's Wife\", 'Frankenweenie', \"Dragon Nest: Warriors' Dawn\", 'Heartbreakers', 'Angel Eyes', 'The Ninth Gate', 'Precious', 'The Thing', 'The Master', 'Burn After Reading', \"Nim's Island\", 'Cop Out', 'John Q', \"We're the Millers\", 'Snow Falling on Cedars', 'Austin Powers: The Spy Who Shagged Me', 'Lethal Weapon 3', 'The Blind Side', 'Star Trek: The Motion Picture', 'Sky High', 'The Man in the Iron Mask', 'TMNT', 'Resident Evil', 'The Ladykillers', 'In Time', 'The Bad News Bears', 'Street Fighter', 'Mirrors', 'Queen of the Damned', 'Predator 2', 'Untraceable', 'Blast from the Past', 'Flash Gordon', 'Jersey Girl', 'Alex Cross', 'Midnight in the Garden of Good and Evil', 'Nanny McPhee and the Big Bang', 'Hoffa', 'Valiant', 'Wonder Boys', 'Walk Hard: The Dewey Cox Story', 'American Outlaws', 'Whiteout', 'Lion of the Desert', 'Ride with the Devil', 'Bandidas', 'The Age of Innocence', 'The Fountain', 'Safe', \"Cats Don't Dance\", 'Apocalypse Now', 'Arachnophobia', 'Ace Ventura: When Nature Calls', 'The Princess Diaries', 'The First Wives Club', 'Million Dollar Baby', 'The Notebook', 'The Prince of Tides', 'Legends of the Fall', 'Down to Earth', 'Forgetting Sarah Marshall', 'Baby Mama', 'Hope Floats', 'Message in a Bottle', 'Like Mike', 'Secondhand Lions', 'Step Up 3D', 'Stranger Than Fiction', 'Little Shop of Horrors', 'Winnie the Pooh', 'The Five-Year Engagement', 'Mr. 3000', 'The Replacement Killers', 'Fled', 'Eight Legged Freaks', 'Fright Night', 'The Last Stand', 'Runner Runner', 'Dead Man Down', 'The Promise', 'Machine Gun Preacher', 'Aladdin', 'Straight Outta Compton', 'Taking Woodstock', 'The Wedding Planner', 'Identity', 'Zoolander', 'No Reservations', '30 Minutes or Less', 'Alexander and the Terrible, Horrible, No Good, Very Bad Day', '3 Days to Kill', 'Just My Luck', 'Mystery, Alaska', 'The Spy Next Door', 'Brick Mansions', 'A Passage to India', 'Notes on a Scandal', 'Divine Secrets of the Ya-Ya Sisterhood', 'Spy Kids: All the Time in the World', 'The Statement', 'A Walk Among the Tombstones', 'Open Range', 'Red Eye', 'O Brother, Where Art Thou?', 'Flipper', 'Gran Torino', 'W.', 'The Face of an Angel', 'Tombstone', 'Finding Neverland', 'Nothing to Lose', 'The Last Emperor', 'The Sisterhood of the Traveling Pants', 'The House Bunny', 'Cradle 2 the Grave', 'The Hours', \"She's the Man\", 'The Shawshank Redemption', 'The Gambler', 'Dear John', 'Punch-Drunk Love', 'The Adventures of Pinocchio', 'Stealing Harvard', 'Legend', 'Shark Night', \"Angela's Ashes\", 'Draft Day', 'The 33', 'Gettysburg', 'Abandon', 'Straw Dogs', 'Where the Truth Lies', \"A Turtle's Tale: Sammy's Adventures\", 'Little White Lies', 'Scream 2', 'Think Like a Man Too', 'The Fisher King', 'I Still Know What You Did Last Summer', 'Zack and Miri Make a Porno', 'Double Take', 'Meet the Deedles', 'The Empire Strikes Back', 'The End of the Affair', 'Spaceballs', \"There's Something About Mary\", 'The Rookie', 'The Net', 'Son of God', 'Diary of a Wimpy Kid: Dog Days', 'Homefront', 'Darling Lili', 'The Libertine', 'Black Book', 'Joyeux Noël', 'Before I Go to Sleep', 'Michael Clayton', 'Firefox', 'Teenage Mutant Ninja Turtles III', 'Away We Go', 'Tinker Tailor Soldier Spy', 'The Beaver', 'Pulse', 'Jaws 2', 'Beverly Hills Chihuahua', 'Tammy', '12 Years a Slave', 'Edward Scissorhands', 'Return to Never Land', 'Selma', 'Premonition', 'The Tigger Movie', 'Man of the Year', 'The Black Hole', 'Scary Movie 5', 'Milk', 'Risen', 'The Debt', 'Nancy Drew', 'Daybreakers', \"She's Out of My League\", 'Quigley Down Under', 'To Die For', 'Psycho', 'Georgia Rule', 'Under the Rainbow', 'Into the Wild', 'Home for the Holidays', 'Kung Fu Hustle', 'The Country Bears', 'Paparazzi', 'Capitalism: A Love Story', 'Secret in Their Eyes', 'Armored', 'The Weather Man', 'Mrs Henderson Presents', \"We're No Angels\", 'Superbabies: Baby Geniuses 2', 'Marci X', 'The Children of Huang Shi', 'Rapa Nui', 'People I Know', 'Ramanujan', 'Dwegons', 'Dances with Wolves', 'Bad Teacher', 'I Can Do Bad All By Myself', 'Spirited Away', 'Firestorm', 'The Fall of the Roman Empire', 'Adaptation.', 'The Invention of Lying', 'Borat: Cultural Learnings of America for Make Benefit Glorio', 'Star Trek III: The Search for Spock', 'Bad Santa', 'Blue Jasmine', 'United 93', 'The Fog', 'Conan the Destroyer', 'Young Sherlock Holmes', 'Fame', 'Catch That Kid', 'Youth in Revolt', 'The Tailor of Panama', 'The Ice Storm', 'Nine 1/2 Weeks', 'The Last Station', 'RockNRolla', 'The White Ribbon', 'Salton Sea', 'Superbad', 'Step Up 2: The Streets', \"Let's Be Cops\", 'Sideways', 'Halloween', \"Smokin' Aces\", 'ATL', 'A Simple Plan', 'The Adventures of Elmo in Grouchland', \"Brooklyn's Finest\", '55 Days at Peking', 'American Dreamz', 'Superman IV: The Quest for Peace', 'Wall Street', 'The Young Messiah', 'The Roommate', 'Joe Dirt', \"Jennifer's Body\", 'My Stepmother is an Alien', 'Things We Lost in the Fire', 'The White Countess', 'Zulu', 'Slither', 'Three Men and a Baby', 'American Beauty', 'Mama', 'Little Women', 'The Deer Hunter', 'The Lizzie McGuire Movie', 'The Theory of Everything', \"Malibu's Most Wanted\", 'Where the Heart Is', 'Wild', 'The Great Debaters', 'Drive', 'Confessions of a Teenage Drama Queen', '28 Weeks Later', 'Because of Winn-Dixie', 'Keanu', 'Disturbing Behavior', 'Eye of the Beholder', 'The Hurt Locker', 'Firestarter', 'A Most Wanted Man', 'New York Stories', 'The Man with the Iron Fists', 'Here On Earth', 'Raise Your Voice', 'The Big Lebowski', 'Boat Trip', 'Hoot', 'Jakob the Liar', 'Kiss Kiss Bang Bang', 'You Will Meet a Tall Dark Stranger', 'Never Let Me Go', 'The Company', 'Transsiberian', 'Listening', 'The Assassin', 'The Good Night', 'Shinjuku Incident', 'Pandaemonium', 'Magic Mike XXL', 'Romeo + Juliet', 'Slumdog Millionaire', 'Pretty Woman', 'My Bloody Valentine', 'The Spy Who Loved Me', 'White Fang', 'Head Over Heels', 'Jefferson in Paris', 'Stan Helsing', 'Brokeback Mountain', 'Far from Heaven', 'Hot Tub Time Machine 2', 'Seven Psychopaths', \"The Caveman's Valentine\", 'Under the Skin', 'Snow Day', 'Harriet the Spy', 'The Perks of Being a Wallflower', 'Excessive Force', 'Infamous', 'The Crocodile Hunter: Collision Course', 'True Romance', 'Lars and the Real Girl', 'Tae Guk Gi: The Brotherhood of War', 'Think Like a Man', 'Ace Ventura: Pet Detective', 'Johnson Family Vacation', 'How High', 'The Muppet Christmas Carol', 'Rounders', 'Aquamarine', \"Def Jam's How to Be a Player\", 'Cadillac Records', 'Fortress', 'For Your Consideration', 'Running with Scissors', 'Girl 6', 'In the Cut', 'The Pursuit of D.B. Cooper', 'Charlie Bartlett', 'Duma', 'The Life Before Her Eyes', 'Darling Companion', '10 Days in a Madhouse', 'A Tale of Three Cities', 'Dirty Grandpa', 'Phone Booth', 'Cruel Intentions', 'Corky Romano', 'Raising Cain', 'Invaders from Mars', 'Brooklyn', 'Barry Lyndon', 'O', 'Copying Beethoven', 'Saw V', 'The Last Days on Mars', 'There Goes My Baby', 'September Dawn', 'Good Will Hunting', 'Misconduct', 'Stripes', 'The Purge: Election Year', \"Madea's Family Reunion\", 'The Grudge', 'Friday After Next', 'The Last Dragon', 'Dogma', 'Road House', 'The Outsiders', \"Pete's Dragon\", 'The Fourth Kind', 'Skyline', 'The Second Best Exotic Marigold Hotel', 'The Corruptor', 'The Matador', 'End of the Spear', 'Movie 43', 'Over Her Dead Body', 'American History X', 'Deuces Wild', 'Run, Fatboy, Run', 'Heartbeeps', 'Black or White', 'Romeo Is Bleeding', 'Malone', 'Spider', 'Gun Shy', 'Nicholas Nickleby', 'Cecil B. Demented', 'Shaolin Soccer', 'High Heels and Low Lifes', 'Motherhood', 'Free Style', 'Strangerland', 'The Oxford Murders', 'Good Intentions', \"It's a Mad, Mad, Mad, Mad World\", 'Richard III', 'Kites', 'Jab Tak Hai Jaan', 'Alien', 'Detention', 'The Best Man', 'Sicko', 'Down to You', \"Breakin' All the Rules\", 'The Way of the Gun', 'Gracie', 'The Wailing', 'The Legend of Suriyothai', 'All or Nothing', 'Opal Dream', 'Ultramarines: A Warhammer 40,000 Movie', 'Skin Trade', 'Baggage Claim', 'Silmido', 'Escape from Alcatraz', '50/50', 'That Awkward Moment', 'Kicks', 'New in Town', \"It's Kind of a Funny Story\", 'The Secret of Kells', 'Dear Wendy', 'Mr. Church', 'Soul Food', 'Rumble in the Bronx', 'An Education', 'The Work and the Glory', 'Black November', 'Persepolis', 'Magic Mike', \"The Devil's Rejects\", 'In Too Deep', 'House of 1000 Corpses', 'Auto Focus', 'Factory Girl', 'The Christmas Candle', 'Hesher', 'Freeheld', 'The Extra Man', 'Hard to Be a God', 'The Boondock Saints', 'Pale Rider', 'Dazed and Confused', 'Remember Me, My Love', 'Perrier’s Bounty', 'Boyz n the Hood', 'La Bamba', 'Aberdeen', 'Butch Cassidy and the Sundance Kid', 'West Side Story', 'Caddyshack', 'National Lampoon’s Van Wilder', 'School Daze', 'Mr. Nice Guy', 'Mystic Pizza', 'College', 'Miss March', 'The Flower of Evil', 'Come Early Morning', 'Surfer, Dude', 'Don McKay', 'The Hit List', 'Emma', 'Bend It Like Beckham', 'Chariots of Fire', 'Don Jon', 'High Plains Drifter', 'Do the Right Thing', 'Harvard Man', 'R100', 'Salvation Boulevard', 'Saw II', 'Lights Out', 'The Robe', '20,000 Leagues Under the Sea', 'Oculus', 'Clerks II', 'Halloween 4: The Return of Michael Myers', 'Apollo 18', 'Sunshine Cleaning', 'Robin and Marian', 'The Forsaken', 'Force 10 from Navarone', 'Made', 'Rabbit Hole', 'Green Room', 'The Oh in Ohio', 'Bottle Rocket', 'Fascination', 'We Have Your Husband', 'Dying of the Light', 'Born Of War', 'Yoga Hosers', 'Pat Garrett & Billy the Kid', 'Four Weddings and a Funeral', 'Fast Times at Ridgemont High', 'Moby Dick', 'Requiem for a Dream', 'State Fair', 'Donnie Darko', 'Spun', 'Blackthorn', 'Fugly', 'Survival of the Dead', 'The Boy Next Door', 'The Kids Are All Right', 'The Last Exorcism Part II', 'The Wash', 'The Misfits', 'The Orphanage', 'The Rules of Attraction', 'Waiting for Guffman', 'The Barbarians', 'The Art of Getting By', 'The Loss of Sexual Innocence', 'Joe', 'The Big Tease', 'The Velocity of Gary', 'The Last Time I Committed Suicide', 'Futuro Beach', 'A Man for All Seasons', 'Gone with the Wind', 'Annie Get Your Gun', 'Four Lions', 'The Pirate', 'Chain of Command', \"The Nun's Story\", 'Frenzy', 'The Secret in Their Eyes', 'The Other Conquest', 'Troll Hunter', 'The Masked Saint', 'Taxman', 'The Secret', 'Time to Choose', 'Stranded', 'High Anxiety', 'March of the Penguins', 'Choke', 'Whiplash', 'Human Traffic', 'The Hunt', 'Beginners', 'Feast', 'Martin Lawrence Live: Runteldat', 'The Bridge on the River Kwai', 'Torn Curtain', \"Dave Chappelle's Block Party\", 'Slow West', 'Phantasm II', 'Woman Thou Art Loosed', 'Real Women Have Curves', 'Whipped', 'DysFunktional Family', 'Letters to God', 'Compadres', \"Love's Abiding Joy\", 'Tanner Hall', 'Open Road', 'They Came Together', 'AWOL-72', 'Amnesiac', 'Unnatural', 'Young Frankenstein', 'Lage Raho Munna Bhai', \"Donovan's Reef\", 'Blazing Saddles', 'Friday the 13th: The Final Chapter', 'Timber Falls', 'Hud', '8: The Mormon Proposition', 'Anatomy', 'Christmas Mail', 'This Is England', 'Bathing Beauty', 'Redemption Road', 'The Brave Little Toaster', 'The Valley of Decision', 'Eden', 'Mi America', 'Containment', \"Boys Don't Cry\", 'Smoke Signals', 'Amores perros', \"Gentleman's Agreement\", 'We Are Your Friends', 'Full Frontal', 'Witchboard', 'Shortbus', \"Meek's Cutoff\", 'House of D', \"It's All Gone Pete Tong\", 'Roadside Romeo', 'This Thing of Ours', 'The Lost Medallion: The Adventures of Billy Stone', 'Eden Lake', 'Plush', 'Freeze Frame', 'To Be Frank, Sinatra at 100', 'Supercapitalist', \"The Legend of Hell's Gate: An American Conspiracy\", 'Dr. Strangelove or: How I Learned to Stop Worrying and Love ', 'Songcatcher', 'Ed and His Dead Mother', \"A Beginner's Guide to Snuff\", 'Independence Daysaster', 'Foolish', 'N-Secure', 'Mississippi Mermaid', 'Cabin Fever', 'Waitress', 'Kids', 'Insidious', 'Session 9', 'I Want Someone to Eat Cheese With', 'My Name Is Bruce', 'Housebound', 'Fetching Cody', 'Mutant World', 'Growing Up Smith', 'Wind Walkers', 'The Blue Room', 'House at the End of the Drive', 'Batman', 'The Ballad of Gregorio Cortez', 'The Hebrew Hammer', 'Friday the 13th Part 2', 'Super Troopers', 'The Amazing Catfish', 'You Can Count on Me', 'Reservoir Dogs', 'Down & Out With The Dolls', 'Cotton Comes to Harlem', 'The Wicked Within', 'Waiting...', \"Dead Man's Shoes\", \"Dracula: Pages from a Virgin's Diary\", 'The Raid', 'Casablanca', 'Taxi Driver', 'The Devil Inside', 'An Inconvenient Truth', 'Martha Marcy May Marlene', 'Bubba Ho-tep', 'Brigham City', 'All the Real Girls', 'I Origins', 'Taxi to the Dark Side', 'Once in a Lifetime: The Extraordinary Story of the New York ', 'Antarctica: A Year on Ice', 'The House of the Devil', 'Speedway Junky', 'The Specials', 'Creative Control', \"The Party's Over\", 'ZMD: Zombies of Mass Destruction', 'Snow White: A Deadly Summer', 'Black Rock', 'Fear Clinic', 'Zombie Hunter', 'L!fe Happens', 'Fruitvale Station', 'Bambi', 'Time Changer', 'Raising Victor Vargas', 'Harrison Montgomery', 'Kevin Hart: Laugh at My Pain', 'The Innkeepers', 'High Noon', 'B-Girl', 'Hav Plenty', 'Adulterers', 'Escape from Tomorrow', 'The Hadza:  Last of the First', 'The Blair Witch Project', 'Water & Power', 'They Will Have to Kill Us First', 'The Station Agent', 'Wordplay', 'Lonesome Jim', 'Drinking Buddies', 'The Other Dream Team', 'Monsters', 'Subconscious', 'Fight to the Finish', 'Diamond Ruff', 'Metropolitan', 'Blue Ruin', 'Paranormal Activity', 'I Want Your Money', 'My Beautiful Laundrette', 'Rotor DR1', 'The Prophecy', '3 Backyards', 'Nothing But a Man', 'Locker 13', 'Graduation Day', 'Shotgun Stories', 'Little Big Top', 'Malevolence', 'Super Hybrid', 'Archaeology of a Woman', \"Sweet Sweetback's Baadasssss Song\", 'Tadpole', 'Cheap Thrills', 'Straightheads', 'Pi', '20 Dates', 'Happy Christmas', 'The Brothers McMullen', 'The Dirties', 'Smiling Fish & Goat On Fire', 'Pink Narcissus', 'Shanghai Calling']\n"
     ]
    }
   ],
   "source": [
    "print('All movies in validation set:\\n', data.get_all_movies())"
   ]
  },
  {
   "cell_type": "code",
   "execution_count": 445,
   "metadata": {},
   "outputs": [
    {
     "data": {
      "text/plain": [
       "(6.6718963655060817, 7.454545454545454)"
      ]
     },
     "execution_count": 445,
     "metadata": {},
     "output_type": "execute_result"
    }
   ],
   "source": [
    "data.actor_values(\"Pirates of the Caribbean: At World's End\")"
   ]
  },
  {
   "cell_type": "code",
   "execution_count": 446,
   "metadata": {},
   "outputs": [
    {
     "name": "stdout",
     "output_type": "stream",
     "text": [
      "input values for The Hateful Eight:\n",
      "composer values: (6.9357142857142842, 14.0)\n",
      "moviebudget: 44.0\n",
      "directorvalues: (7.4285714285714288, 7.0)\n",
      "visual studio value: (6.1499999999999995, 1.6666666666666667)\n",
      "Actorvalues (6.6409348156716579, 10.222222222222221)\n",
      "\n",
      "calculations:\n",
      "Crew components\n",
      "5.027050468299886\n",
      "4.500000000000005\n",
      "6.106487528106245\n",
      "5.578180539652526\n",
      "Creating and directing\n",
      "4.500000000000012\n",
      "6.499999999999985\n",
      "Crew\n",
      "6.499999999999997\n",
      "\n",
      "Resulting rating:\n",
      "6.834032172799963\n"
     ]
    },
    {
     "data": {
      "text/plain": [
       "6.834032172799963"
      ]
     },
     "execution_count": 446,
     "metadata": {},
     "output_type": "execute_result"
    }
   ],
   "source": [
    "rate_movie('The Hateful Eight', data, True)"
   ]
  },
  {
   "cell_type": "code",
   "execution_count": 447,
   "metadata": {},
   "outputs": [
    {
     "name": "stdout",
     "output_type": "stream",
     "text": [
      "input values for Harry(2018):\n",
      "composer values: (5.0, 10)\n",
      "moviebudget: 70\n",
      "directorvalues: (5.0, 20)\n",
      "visual studio value: (5.0, 20)\n",
      "Actorvalues (5.0, 18)\n",
      "\n",
      "calculations:\n",
      "Crew components\n",
      "4.500000000000009\n",
      "4.500000000000009\n",
      "4.500000000000009\n",
      "1.8333384104879467\n",
      "Creating and directing\n",
      "4.500000000000003\n",
      "1.756866096866094\n",
      "Crew\n",
      "1.7568660968660956\n",
      "\n",
      "Resulting rating:\n",
      "4.146783172281948\n"
     ]
    },
    {
     "data": {
      "text/plain": [
       "4.146783172281948"
      ]
     },
     "execution_count": 447,
     "metadata": {},
     "output_type": "execute_result"
    }
   ],
   "source": [
    "rate_movie('Harry(2018)', data, True, True)"
   ]
  },
  {
   "cell_type": "code",
   "execution_count": 448,
   "metadata": {},
   "outputs": [],
   "source": [
    "import matplotlib.pyplot as plt\n",
    "def perform_validation(data, filtering=False, printing=False, top_select=0):\n",
    "    movies = data.get_all_movies()\n",
    "    abs_errors = []\n",
    "    errors = []\n",
    "    rating = []\n",
    "    labels = []\n",
    "    error = 0\n",
    "    total = 0\n",
    "    if printing:\n",
    "        print(len(movies))\n",
    "    for movie in movies:\n",
    "        movie_rating = rate_movie(movie, data, printing, filtering, top_select)\n",
    "        valrat = data.get_rating(movie)\n",
    "        if movie_rating > 0 and valrat > 0:\n",
    "            temperr = abs(movie_rating - valrat)\n",
    "            error += temperr\n",
    "            abs_errors.append(temperr)\n",
    "            errors.append(movie_rating - valrat)\n",
    "            rating.append(movie_rating)\n",
    "            labels.append(valrat)\n",
    "            total += 1\n",
    "    #Calculate mean absolute error\n",
    "    if printing:\n",
    "        print('absolute mean error:\\n')\n",
    "        print(error / total)\n",
    "        print('\\nTotal movies:')\n",
    "        print(total)\n",
    "    \n",
    "    return abs_errors, errors, labels, rating\n",
    "#     plt.plot(results)\n",
    "#     plt.plot(labels)\n",
    "# #    plt.plot(sorted(results)[::-1])\n",
    "#     plt.show()\n",
    "    \n",
    "    "
   ]
  },
  {
   "cell_type": "code",
   "execution_count": 456,
   "metadata": {},
   "outputs": [],
   "source": [
    "abs_erros, errors, labels, rating = perform_validation(data, filtering=True, top_select=1)"
   ]
  },
  {
   "cell_type": "code",
   "execution_count": 455,
   "metadata": {},
   "outputs": [
    {
     "name": "stdout",
     "output_type": "stream",
     "text": [
      "1.51029642842\n"
     ]
    },
    {
     "data": {
      "text/plain": [
       "<matplotlib.collections.PathCollection at 0x7f55392e1550>"
      ]
     },
     "execution_count": 455,
     "metadata": {},
     "output_type": "execute_result"
    },
    {
     "data": {
      "image/png": "[encoded data removed]",
      "text/plain": [
       "<matplotlib.figure.Figure at 0x7f554e62b2e8>"
      ]
     },
     "metadata": {},
     "output_type": "display_data"
    }
   ],
   "source": [
    "print(np.mean(abs_erros))\n",
    "plt.scatter(rating, errors)"
   ]
  },
  {
   "cell_type": "code",
   "execution_count": null,
   "metadata": {
    "collapsed": true
   },
   "outputs": [],
   "source": [
    "def pdf(x, m, s):\n",
    "    first = float(1)/(math.sqrt(2*math.pi)*s)\n",
    "    second = (x-m)**2\n",
    "    second = second/(2*(s**2))\n",
    "    return(first * math.exp(-second))\n",
    "\n"
   ]
  },
  {
   "cell_type": "code",
   "execution_count": 49,
   "metadata": {},
   "outputs": [
    {
     "name": "stdout",
     "output_type": "stream",
     "text": [
      "-1.15991561181\n"
     ]
    }
   ],
   "source": [
    "print(np.mean(errors))"
   ]
  },
  {
   "cell_type": "code",
   "execution_count": 50,
   "metadata": {},
   "outputs": [
    {
     "name": "stdout",
     "output_type": "stream",
     "text": [
      "1.30884201992\n"
     ]
    },
    {
     "data": {
      "image/png": "[encoded data removed]",
      "text/plain": [
       "<matplotlib.figure.Figure at 0x7fce8420cba8>"
      ]
     },
     "metadata": {},
     "output_type": "display_data"
    }
   ],
   "source": [
    "error_mean = np.mean(errors)\n",
    "error_std = np.std(errors)\n",
    "print(error_std)\n",
    "\n",
    "\n",
    "pdf_vectorize = np.vectorize(pdf, excluded = ['m', 's'])\n",
    "gaus = pdf_vectorize(x = errors, m = error_mean, s = error_std)\n",
    "\n",
    "\n",
    "\n",
    "plt.scatter(errors, gaus)\n",
    "plt.show()"
   ]
  },
  {
   "cell_type": "code",
   "execution_count": 51,
   "metadata": {},
   "outputs": [
    {
     "name": "stdout",
     "output_type": "stream",
     "text": [
      "711\n"
     ]
    },
    {
     "data": {
      "image/png": "[encoded data removed]",
      "text/plain": [
       "<matplotlib.figure.Figure at 0x7fce83d0b0f0>"
      ]
     },
     "metadata": {},
     "output_type": "display_data"
    }
   ],
   "source": [
    "%matplotlib inline\n",
    "import numpy as np\n",
    "import pandas as pd\n",
    "from scipy import stats, integrate\n",
    "import matplotlib.pyplot as plt\n",
    "\n",
    "import seaborn as sns\n",
    "sns.set(color_codes=True)\n",
    "print(len(errors))\n",
    "sns.distplot(errors);"
   ]
  },
  {
   "cell_type": "code",
   "execution_count": null,
   "metadata": {},
   "outputs": [],
   "source": [
    "def perform_iter(data, lowest, highest):\n",
    "    iters = [i for i in range(lowest, highest+1)]\n",
    "    errors = []\n",
    "    for i in iters:\n",
    "        abs_errors, errors, labels, rating = perform_validation(data, filtering=True, top_select=i)\n",
    "        print('selection value:', i)\n",
    "        print('Mean squared error:', np.mean(abs_errors))\n",
    "        sns.set(color_codes=True)\n",
    "        sns.distplot(errors)\n",
    "        plt.show()\n",
    "        errors.append(np.mean(abs_errors))\n",
    "    plt.plot(iters,errors)\n",
    "    plt.show()"
   ]
  },
  {
   "cell_type": "code",
   "execution_count": null,
   "metadata": {},
   "outputs": [
    {
     "name": "stdout",
     "output_type": "stream",
     "text": [
      "selection value: 1\n",
      "Mean squared error: 1.2229213256\n"
     ]
    },
    {
     "data": {
      "image/png": "[encoded data removed]",
      "text/plain": [
       "<matplotlib.figure.Figure at 0x7f554dbc69e8>"
      ]
     },
     "metadata": {},
     "output_type": "display_data"
    },
    {
     "name": "stdout",
     "output_type": "stream",
     "text": [
      "selection value: 2\n",
      "Mean squared error: 1.4021316244\n"
     ]
    },
    {
     "data": {
      "image/png": "[encoded data removed]",
      "text/plain": [
       "<matplotlib.figure.Figure at 0x7f554dbc6a90>"
      ]
     },
     "metadata": {},
     "output_type": "display_data"
    },
    {
     "name": "stdout",
     "output_type": "stream",
     "text": [
      "selection value: 3\n",
      "Mean squared error: 1.51029642842\n"
     ]
    },
    {
     "data": {
      "image/png": "[encoded data removed]",
      "text/plain": [
       "<matplotlib.figure.Figure at 0x7f554dd5a208>"
      ]
     },
     "metadata": {},
     "output_type": "display_data"
    },
    {
     "name": "stdout",
     "output_type": "stream",
     "text": [
      "selection value: 4\n",
      "Mean squared error: 1.59239183828\n"
     ]
    },
    {
     "data": {
      "image/png": "[encoded data removed]",
      "text/plain": [
       "<matplotlib.figure.Figure at 0x7f55394f5208>"
      ]
     },
     "metadata": {},
     "output_type": "display_data"
    },
    {
     "name": "stdout",
     "output_type": "stream",
     "text": [
      "selection value: 5\n",
      "Mean squared error: 1.70775650663\n"
     ]
    },
    {
     "data": {
      "image/png": "[encoded data removed]",
      "text/plain": [
       "<matplotlib.figure.Figure at 0x7f554a91c748>"
      ]
     },
     "metadata": {},
     "output_type": "display_data"
    },
    {
     "name": "stdout",
     "output_type": "stream",
     "text": [
      "selection value: 6\n",
      "Mean squared error: 1.804247859\n"
     ]
    },
    {
     "data": {
      "image/png": "[encoded data removed]",
      "text/plain": [
       "<matplotlib.figure.Figure at 0x7f554a8299b0>"
      ]
     },
     "metadata": {},
     "output_type": "display_data"
    }
   ],
   "source": [
    "perform_iter(data, 1, 10)"
   ]
  },
  {
   "cell_type": "code",
   "execution_count": null,
   "metadata": {
    "collapsed": true
   },
   "outputs": [],
   "source": []
  }
 ],
 "metadata": {
  "kernelspec": {
   "display_name": "Python 3",
   "language": "python",
   "name": "python3"
  },
  "language_info": {
   "codemirror_mode": {
    "name": "ipython",
    "version": 3
   },
   "file_extension": ".py",
   "mimetype": "text/x-python",
   "name": "python",
   "nbconvert_exporter": "python",
   "pygments_lexer": "ipython3",
   "version": "3.5.2"
  }
 },
 "nbformat": 4,
 "nbformat_minor": 2
}
